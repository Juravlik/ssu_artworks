{
 "cells": [
  {
   "cell_type": "code",
   "execution_count": 1,
   "metadata": {},
   "outputs": [],
   "source": [
    "import pandas as pd\n",
    "import numpy as np\n",
    "import os\n",
    "import random\n",
    "import seaborn as sns\n",
    "import matplotlib.pyplot as plt\n",
    "import re\n",
    "from sklearn.model_selection import train_test_split"
   ]
  },
  {
   "cell_type": "markdown",
   "metadata": {},
   "source": [
    "## Read data"
   ]
  },
  {
   "cell_type": "code",
   "execution_count": 2,
   "metadata": {},
   "outputs": [],
   "source": [
    "PATH_CSV_DIR = '/home/juravlik/PycharmProjects/ssu_artworks/static/data/csv/'"
   ]
  },
  {
   "cell_type": "code",
   "execution_count": 3,
   "metadata": {},
   "outputs": [],
   "source": [
    "df_train = pd.read_csv(os.path.join(PATH_CSV_DIR, 'train.csv'),\n",
    "                       sep=';')\n",
    "\n",
    "df_test = pd.read_csv(os.path.join(PATH_CSV_DIR, 'test.csv'),\n",
    "                       sep=';')\n",
    "\n",
    "df_valid = pd.read_csv(os.path.join(PATH_CSV_DIR, 'valid.csv'),\n",
    "                       sep=';')\n",
    "\n",
    "df_index = pd.read_csv(os.path.join(PATH_CSV_DIR, 'index.csv'),\n",
    "                       sep=';')"
   ]
  },
  {
   "cell_type": "code",
   "execution_count": null,
   "metadata": {},
   "outputs": [],
   "source": []
  },
  {
   "cell_type": "code",
   "execution_count": 4,
   "metadata": {},
   "outputs": [],
   "source": [
    "df_all = pd.concat([df_train, df_test, df_index, df_valid], ignore_index=True)"
   ]
  },
  {
   "cell_type": "code",
   "execution_count": 6,
   "metadata": {},
   "outputs": [],
   "source": [
    "df_all = df_all.drop_duplicates(subset=['imgId', 'style', 'author', 'class'])"
   ]
  },
  {
   "cell_type": "code",
   "execution_count": null,
   "metadata": {},
   "outputs": [],
   "source": []
  },
  {
   "cell_type": "code",
   "execution_count": 7,
   "metadata": {},
   "outputs": [],
   "source": [
    "def str_to_age(x: str) -> int:\n",
    "    \n",
    "    x = re.sub(r\"\\(\\d+\\)\", \"\", x)\n",
    "\n",
    "    last_s = x.split('-')[-1]\n",
    "    \n",
    "    last_s = int(last_s) if len(last_s) == 4 and last_s.isdigit() and int(last_s) <= 2022 and last_s[0] != 0 else 0\n",
    "    \n",
    "    return last_s\n"
   ]
  },
  {
   "cell_type": "code",
   "execution_count": 8,
   "metadata": {
    "scrolled": true
   },
   "outputs": [],
   "source": [
    "df_all['age'] = df_all['imgId'].apply(lambda x: str_to_age(x))"
   ]
  },
  {
   "cell_type": "code",
   "execution_count": null,
   "metadata": {},
   "outputs": [],
   "source": []
  },
  {
   "cell_type": "code",
   "execution_count": 14,
   "metadata": {},
   "outputs": [
    {
     "data": {
      "image/png": "[encoded data removed]",
      "text/plain": [
       "<Figure size 504x288 with 1 Axes>"
      ]
     },
     "metadata": {
      "needs_background": "light"
     },
     "output_type": "display_data"
    }
   ],
   "source": [
    "# sns.set(font_scale=1.3)\n",
    "plt.figure(figsize=(7, 4))\n",
    "\n",
    "df_all[df_all.age > 0].age.hist(bins=100)\n",
    "plt.xlabel('Год написания картины', fontsize=17);\n",
    "plt.ylabel('Количество картин', fontsize=17);\n",
    "plt.title('', fontsize=17)\n",
    "plt.show()"
   ]
  },
  {
   "cell_type": "code",
   "execution_count": null,
   "metadata": {},
   "outputs": [],
   "source": []
  },
  {
   "cell_type": "code",
   "execution_count": 15,
   "metadata": {},
   "outputs": [],
   "source": [
    "df_all_age = df_all[df_all.age > 0]"
   ]
  },
  {
   "cell_type": "code",
   "execution_count": 23,
   "metadata": {},
   "outputs": [],
   "source": [
    "df_age_min = df_all_age.groupby('author')['age'].min().reset_index().rename(columns={'age': 'age_min'})\n",
    "df_age_max = df_all_age.groupby('author')['age'].max().reset_index().rename(columns={'age': 'age_max'})\n",
    "\n",
    "df_all_age = df_all_age.merge(df_age_min, how='left', on=['author'])\n",
    "df_all_age = df_all_age.merge(df_age_max, how='left', on=['author'])\n",
    "\n",
    "df_all_age['age_diff'] = df_all_age['age_max'] - df_all_age['age_min']"
   ]
  },
  {
   "cell_type": "code",
   "execution_count": 34,
   "metadata": {},
   "outputs": [],
   "source": [
    "df_all_age = df_all_age.groupby(['author']).first()"
   ]
  },
  {
   "cell_type": "code",
   "execution_count": 38,
   "metadata": {},
   "outputs": [
    {
     "data": {
      "image/png": "[encoded data removed]",
      "text/plain": [
       "<Figure size 504x288 with 1 Axes>"
      ]
     },
     "metadata": {
      "needs_background": "light"
     },
     "output_type": "display_data"
    }
   ],
   "source": [
    "plt.figure(figsize=(7, 4))\n",
    "\n",
    "df_all_age[df_all_age.age_diff < 80]['age_diff'].hist(bins=60)\n",
    "plt.xlabel('Разница в годах между первой и\\nпоследней написанной картиной', fontsize=17);\n",
    "plt.ylabel('Количество авторов', fontsize=17);\n",
    "plt.title('', fontsize=17)\n",
    "plt.show()"
   ]
  },
  {
   "cell_type": "code",
   "execution_count": null,
   "metadata": {},
   "outputs": [],
   "source": []
  },
  {
   "cell_type": "code",
   "execution_count": 50,
   "metadata": {},
   "outputs": [
    {
     "data": {
      "text/plain": [
       "Realism                       5162\n",
       "Impressionism                 4216\n",
       "Expressionism                 3818\n",
       "Post_Impressionism            3256\n",
       "Romanticism                   3027\n",
       "Art_Nouveau_Modern            2088\n",
       "Abstract_Expressionism        2082\n",
       "Symbolism                     1948\n",
       "Baroque                       1603\n",
       "Cubism                        1575\n",
       "Color_Field_Painting          1321\n",
       "Minimalism                    1132\n",
       "Naive_Art_Primitivism         1040\n",
       "Pop_Art                       1005\n",
       "Rococo                         952\n",
       "Northern_Renaissance           875\n",
       "High_Renaissance               692\n",
       "Early_Renaissance              664\n",
       "Fauvism                        653\n",
       "Mannerism_Late_Renaissance     615\n",
       "Pointillism                    321\n",
       "Contemporary_Realism           207\n",
       "Synthetic_Cubism               177\n",
       "New_Realism                    156\n",
       "Ukiyo_e                        155\n",
       "Analytical_Cubism               98\n",
       "Action_painting                 69\n",
       "Name: style, dtype: int64"
      ]
     },
     "execution_count": 50,
     "metadata": {},
     "output_type": "execute_result"
    }
   ],
   "source": [
    "df_all['style'].value_counts()"
   ]
  },
  {
   "cell_type": "code",
   "execution_count": null,
   "metadata": {},
   "outputs": [],
   "source": []
  },
  {
   "cell_type": "code",
   "execution_count": null,
   "metadata": {},
   "outputs": [],
   "source": []
  },
  {
   "cell_type": "code",
   "execution_count": null,
   "metadata": {},
   "outputs": [],
   "source": []
  },
  {
   "cell_type": "code",
   "execution_count": 66,
   "metadata": {},
   "outputs": [
    {
     "data": {
      "text/plain": [
       "[]"
      ]
     },
     "execution_count": 66,
     "metadata": {},
     "output_type": "execute_result"
    }
   ],
   "source": [
    "df_all[df_all.age >= 2020]['imgId'].tolist()"
   ]
  },
  {
   "cell_type": "code",
   "execution_count": 67,
   "metadata": {},
   "outputs": [],
   "source": [
    "df_all.loc[(df_all.age <= 1377), 'age'] = 0"
   ]
  },
  {
   "cell_type": "code",
   "execution_count": null,
   "metadata": {},
   "outputs": [],
   "source": []
  },
  {
   "cell_type": "code",
   "execution_count": 68,
   "metadata": {},
   "outputs": [
    {
     "data": {
      "text/plain": [
       "38903"
      ]
     },
     "execution_count": 68,
     "metadata": {},
     "output_type": "execute_result"
    }
   ],
   "source": [
    "df_all = df_all[df_all.age > 0]\n",
    "df_all.shape[0]"
   ]
  },
  {
   "cell_type": "code",
   "execution_count": null,
   "metadata": {},
   "outputs": [],
   "source": []
  },
  {
   "cell_type": "code",
   "execution_count": 49,
   "metadata": {},
   "outputs": [
    {
     "data": {
      "text/plain": [
       "style\n",
       "Abstract_Expressionism        1970.337176\n",
       "Action_painting               1955.333333\n",
       "Analytical_Cubism             1910.806122\n",
       "Art_Nouveau_Modern            1908.165230\n",
       "Baroque                       1649.618840\n",
       "Color_Field_Painting          1972.227858\n",
       "Contemporary_Realism          1979.082126\n",
       "Cubism                        1929.098413\n",
       "Early_Renaissance             1462.939759\n",
       "Expressionism                 1932.124673\n",
       "Fauvism                       1930.679939\n",
       "High_Renaissance              1511.767341\n",
       "Impressionism                 1900.305740\n",
       "Mannerism_Late_Renaissance    1559.546341\n",
       "Minimalism                    1977.212014\n",
       "Naive_Art_Primitivism         1944.616346\n",
       "New_Realism                   1925.019231\n",
       "Northern_Renaissance          1502.787429\n",
       "Pointillism                   1897.785047\n",
       "Pop_Art                       1976.257711\n",
       "Post_Impressionism            1914.838452\n",
       "Realism                       1887.781093\n",
       "Rococo                        1765.713235\n",
       "Romanticism                   1850.886026\n",
       "Symbolism                     1906.466119\n",
       "Synthetic_Cubism              1915.779661\n",
       "Ukiyo_e                       1834.729032\n",
       "Name: age, dtype: float64"
      ]
     },
     "execution_count": 49,
     "metadata": {},
     "output_type": "execute_result"
    }
   ],
   "source": [
    "df_all.groupby(['style'])['age'].mean()"
   ]
  },
  {
   "cell_type": "code",
   "execution_count": 48,
   "metadata": {},
   "outputs": [],
   "source": [
    "df_all = df_all[df_all.age > 0]"
   ]
  },
  {
   "cell_type": "code",
   "execution_count": 63,
   "metadata": {
    "scrolled": false
   },
   "outputs": [
    {
     "data": {
      "image/png": "[encoded data removed]",
      "text/plain": [
       "<Figure size 720x504 with 1 Axes>"
      ]
     },
     "metadata": {
      "needs_background": "light"
     },
     "output_type": "display_data"
    }
   ],
   "source": [
    "plt.figure(figsize=(10, 7))\n",
    "\n",
    "# plt.hist(df_all[df_all['style'] == 'Impressionism']['age'], bins=100, alpha=0.5, label=\"Impressionism\")\n",
    "plt.hist(df_all[df_all['style'] == 'Baroque']['age'], bins=80, alpha=0.5, label=\"Baroque\")\n",
    "plt.hist(df_all[df_all['style'] == 'Romanticism']['age'], bins=100, alpha=0.5, label=\"Romanticism\")\n",
    "plt.hist(df_all[df_all['style'] == 'Expressionism']['age'], bins=70, alpha=0.5, label=\"Expressionism\")\n",
    "\n",
    "plt.legend(loc='upper left', fontsize=14);\n",
    "plt.xlabel('Год написания картины', fontsize=17);\n",
    "plt.ylabel('Количество картин', fontsize=17);\n",
    "plt.title('', fontsize=17)\n",
    "plt.show()"
   ]
  },
  {
   "cell_type": "code",
   "execution_count": null,
   "metadata": {},
   "outputs": [],
   "source": []
  },
  {
   "cell_type": "code",
   "execution_count": 74,
   "metadata": {},
   "outputs": [
    {
     "data": {
      "text/plain": [
       "array(['Romanticism__thomas-cole_self-portrait-1836',\n",
       "       'Romanticism__rudolf-von-alt_the-st-nicholas-church-in-gastein-1897',\n",
       "       'Romanticism__ivan-aivazovsky_before-battle-ship-constantinople-1872',\n",
       "       'Romanticism__gustave-moreau_the-daughters-of-thespius-1853',\n",
       "       'Romanticism__jan-matejko_augustus-iii',\n",
       "       'Romanticism__joseph-wright_arkwright-s-cotton-mills-by-night',\n",
       "       'Romanticism__thomas-cole_autumn-landscape-mount-chocorua-1828'],\n",
       "      dtype=object)"
      ]
     },
     "execution_count": 74,
     "metadata": {},
     "output_type": "execute_result"
    }
   ],
   "source": [
    "df_test[df_test['style'] == 'Romanticism'].imgId.values"
   ]
  },
  {
   "cell_type": "code",
   "execution_count": null,
   "metadata": {},
   "outputs": [],
   "source": [
    "Early_Renaissance__fra-angelico_sacred-conversation-1443\n",
    "Abstract_Expressionism__sam-francis_untitled-sfe-071-1989\n",
    "Romanticism__ivan-aivazovsky_before-battle-ship-constantinople-1872\n"
   ]
  },
  {
   "cell_type": "code",
   "execution_count": null,
   "metadata": {},
   "outputs": [],
   "source": []
  },
  {
   "cell_type": "code",
   "execution_count": 70,
   "metadata": {},
   "outputs": [
    {
     "data": {
      "text/plain": [
       "style\n",
       "Abstract_Expressionism        1967\n",
       "Action_painting               1954\n",
       "Analytical_Cubism             1911\n",
       "Art_Nouveau_Modern            1908\n",
       "Baroque                       1640\n",
       "Color_Field_Painting          1969\n",
       "Contemporary_Realism          1976\n",
       "Cubism                        1922\n",
       "Early_Renaissance             1465\n",
       "Expressionism                 1927\n",
       "Fauvism                       1914\n",
       "High_Renaissance              1510\n",
       "Impressionism                 1899\n",
       "Mannerism_Late_Renaissance    1561\n",
       "Minimalism                    1973\n",
       "Naive_Art_Primitivism         1945\n",
       "New_Realism                   1915\n",
       "Northern_Renaissance          1511\n",
       "Pointillism                   1894\n",
       "Pop_Art                       1973\n",
       "Post_Impressionism            1910\n",
       "Realism                       1884\n",
       "Rococo                        1767\n",
       "Romanticism                   1851\n",
       "Symbolism                     1907\n",
       "Synthetic_Cubism              1914\n",
       "Ukiyo_e                       1831\n",
       "Name: age, dtype: int64"
      ]
     },
     "execution_count": 70,
     "metadata": {},
     "output_type": "execute_result"
    }
   ],
   "source": [
    "df_all.groupby(['style'])['age'].median()"
   ]
  },
  {
   "cell_type": "code",
   "execution_count": null,
   "metadata": {},
   "outputs": [],
   "source": []
  },
  {
   "cell_type": "code",
   "execution_count": 71,
   "metadata": {},
   "outputs": [
    {
     "data": {
      "text/plain": [
       "<matplotlib.axes._subplots.AxesSubplot at 0x7f4d8dc62cd0>"
      ]
     },
     "execution_count": 71,
     "metadata": {},
     "output_type": "execute_result"
    },
    {
     "data": {
      "image/png": "[encoded data removed]",
      "text/plain": [
       "<Figure size 432x288 with 1 Axes>"
      ]
     },
     "metadata": {
      "needs_background": "light"
     },
     "output_type": "display_data"
    }
   ],
   "source": [
    "df_all.age.hist(bins=1000)"
   ]
  },
  {
   "cell_type": "code",
   "execution_count": null,
   "metadata": {},
   "outputs": [],
   "source": []
  },
  {
   "cell_type": "code",
   "execution_count": 72,
   "metadata": {},
   "outputs": [
    {
     "data": {
      "text/plain": [
       "<matplotlib.axes._subplots.AxesSubplot at 0x7f4d93b0e640>"
      ]
     },
     "execution_count": 72,
     "metadata": {},
     "output_type": "execute_result"
    },
    {
     "data": {
      "image/png": "[encoded data removed]",
      "text/plain": [
       "<Figure size 432x288 with 1 Axes>"
      ]
     },
     "metadata": {
      "needs_background": "light"
     },
     "output_type": "display_data"
    }
   ],
   "source": [
    "df_all[df_all.age > 1850].sample(10000, random_state=42).age.hist(bins=100)"
   ]
  },
  {
   "cell_type": "code",
   "execution_count": 73,
   "metadata": {},
   "outputs": [
    {
     "data": {
      "text/plain": [
       "<matplotlib.axes._subplots.AxesSubplot at 0x7f4d8ca1d610>"
      ]
     },
     "execution_count": 73,
     "metadata": {},
     "output_type": "execute_result"
    },
    {
     "data": {
      "image/png": "[encoded data removed]",
      "text/plain": [
       "<Figure size 432x288 with 1 Axes>"
      ]
     },
     "metadata": {
      "needs_background": "light"
     },
     "output_type": "display_data"
    }
   ],
   "source": [
    "df_all[df_all.age <= 1850].age.hist(bins=100)"
   ]
  },
  {
   "cell_type": "code",
   "execution_count": 74,
   "metadata": {},
   "outputs": [
    {
     "data": {
      "text/plain": [
       "<matplotlib.axes._subplots.AxesSubplot at 0x7f4d8c8fb250>"
      ]
     },
     "execution_count": 74,
     "metadata": {},
     "output_type": "execute_result"
    },
    {
     "data": {
      "image/png": "[encoded data removed]",
      "text/plain": [
       "<Figure size 432x288 with 1 Axes>"
      ]
     },
     "metadata": {
      "needs_background": "light"
     },
     "output_type": "display_data"
    }
   ],
   "source": [
    "df_all[df_all.age > 1850].sample(5000, random_state=42).age.hist(bins=100)"
   ]
  },
  {
   "cell_type": "code",
   "execution_count": null,
   "metadata": {},
   "outputs": [],
   "source": []
  },
  {
   "cell_type": "code",
   "execution_count": 77,
   "metadata": {},
   "outputs": [],
   "source": [
    "df_all = pd.concat([df_all[df_all.age <= 1850],\n",
    "                    df_all[df_all.age > 1850].sample(4000, random_state=42)], ignore_index=True)"
   ]
  },
  {
   "cell_type": "code",
   "execution_count": null,
   "metadata": {},
   "outputs": [],
   "source": []
  },
  {
   "cell_type": "code",
   "execution_count": 88,
   "metadata": {},
   "outputs": [
    {
     "data": {
      "text/plain": [
       "<matplotlib.axes._subplots.AxesSubplot at 0x7f4d880719d0>"
      ]
     },
     "execution_count": 88,
     "metadata": {},
     "output_type": "execute_result"
    },
    {
     "data": {
      "image/png": "[encoded data removed]",
      "text/plain": [
       "<Figure size 432x288 with 1 Axes>"
      ]
     },
     "metadata": {
      "needs_background": "light"
     },
     "output_type": "display_data"
    }
   ],
   "source": [
    "df_all.age.hist(bins=100)"
   ]
  },
  {
   "cell_type": "code",
   "execution_count": null,
   "metadata": {},
   "outputs": [],
   "source": []
  },
  {
   "cell_type": "code",
   "execution_count": 89,
   "metadata": {},
   "outputs": [],
   "source": [
    "df_train, df_test = train_test_split(df_all, test_size=0.05, stratify=df_all['style'], random_state=42)\n",
    "df_train, df_valid = train_test_split(df_train, test_size=0.2, stratify=df_train['style'], random_state=42)"
   ]
  },
  {
   "cell_type": "code",
   "execution_count": 90,
   "metadata": {},
   "outputs": [
    {
     "data": {
      "text/html": [
       "<div>\n",
       "<style scoped>\n",
       "    .dataframe tbody tr th:only-of-type {\n",
       "        vertical-align: middle;\n",
       "    }\n",
       "\n",
       "    .dataframe tbody tr th {\n",
       "        vertical-align: top;\n",
       "    }\n",
       "\n",
       "    .dataframe thead th {\n",
       "        text-align: right;\n",
       "    }\n",
       "</style>\n",
       "<table border=\"1\" class=\"dataframe\">\n",
       "  <thead>\n",
       "    <tr style=\"text-align: right;\">\n",
       "      <th></th>\n",
       "      <th>imgId</th>\n",
       "      <th>style</th>\n",
       "      <th>author</th>\n",
       "      <th>class</th>\n",
       "      <th>age</th>\n",
       "    </tr>\n",
       "  </thead>\n",
       "  <tbody>\n",
       "    <tr>\n",
       "      <th>3224</th>\n",
       "      <td>Mannerism_Late_Renaissance__correggio_madonna-...</td>\n",
       "      <td>Mannerism_Late_Renaissance</td>\n",
       "      <td>Correggio</td>\n",
       "      <td>Mannerism_Late_Renaissance__correggio</td>\n",
       "      <td>1530</td>\n",
       "    </tr>\n",
       "    <tr>\n",
       "      <th>5568</th>\n",
       "      <td>High_Renaissance__lorenzo-lotto_altar-of-recan...</td>\n",
       "      <td>High_Renaissance</td>\n",
       "      <td>Lorenzo Lotto</td>\n",
       "      <td>High_Renaissance__lorenzo-lotto</td>\n",
       "      <td>1508</td>\n",
       "    </tr>\n",
       "    <tr>\n",
       "      <th>6175</th>\n",
       "      <td>Romanticism__francisco-goya_blind-man-s-buff-1789</td>\n",
       "      <td>Romanticism</td>\n",
       "      <td>Francisco Goya</td>\n",
       "      <td>Romanticism__francisco-goya</td>\n",
       "      <td>1789</td>\n",
       "    </tr>\n",
       "    <tr>\n",
       "      <th>8136</th>\n",
       "      <td>Cubism__henri-laurens_le-grand-adieu-1941</td>\n",
       "      <td>Cubism</td>\n",
       "      <td>Henri Laurens</td>\n",
       "      <td>Cubism__henri-laurens</td>\n",
       "      <td>1941</td>\n",
       "    </tr>\n",
       "    <tr>\n",
       "      <th>5219</th>\n",
       "      <td>High_Renaissance__correggio_madonna-and-child-...</td>\n",
       "      <td>High_Renaissance</td>\n",
       "      <td>Correggio</td>\n",
       "      <td>High_Renaissance__correggio</td>\n",
       "      <td>1514</td>\n",
       "    </tr>\n",
       "    <tr>\n",
       "      <th>...</th>\n",
       "      <td>...</td>\n",
       "      <td>...</td>\n",
       "      <td>...</td>\n",
       "      <td>...</td>\n",
       "      <td>...</td>\n",
       "    </tr>\n",
       "    <tr>\n",
       "      <th>6194</th>\n",
       "      <td>Romanticism__francisco-goya_the-adoration-of-t...</td>\n",
       "      <td>Romanticism</td>\n",
       "      <td>Francisco Goya</td>\n",
       "      <td>Romanticism__francisco-goya</td>\n",
       "      <td>1772</td>\n",
       "    </tr>\n",
       "    <tr>\n",
       "      <th>6045</th>\n",
       "      <td>Realism__camille-corot_venice-view-of-the-escl...</td>\n",
       "      <td>Realism</td>\n",
       "      <td>Camille Corot</td>\n",
       "      <td>Realism__camille-corot</td>\n",
       "      <td>1834</td>\n",
       "    </tr>\n",
       "    <tr>\n",
       "      <th>691</th>\n",
       "      <td>Baroque__diego-velazquez_adoration-of-the-king...</td>\n",
       "      <td>Baroque</td>\n",
       "      <td>Diego Velazquez</td>\n",
       "      <td>Baroque__diego-velazquez</td>\n",
       "      <td>1619</td>\n",
       "    </tr>\n",
       "    <tr>\n",
       "      <th>10503</th>\n",
       "      <td>Realism__ilya-mashkov_watermelon-and-grapes-1920</td>\n",
       "      <td>Realism</td>\n",
       "      <td>Ilya Mashkov</td>\n",
       "      <td>Realism__ilya-mashkov</td>\n",
       "      <td>1920</td>\n",
       "    </tr>\n",
       "    <tr>\n",
       "      <th>3</th>\n",
       "      <td>Baroque__david-teniers-the-younger_a-smoker-le...</td>\n",
       "      <td>Baroque</td>\n",
       "      <td>David Teniers The Younger</td>\n",
       "      <td>Baroque__david-teniers-the-younger</td>\n",
       "      <td>1643</td>\n",
       "    </tr>\n",
       "  </tbody>\n",
       "</table>\n",
       "<p>8610 rows × 5 columns</p>\n",
       "</div>"
      ],
      "text/plain": [
       "                                                   imgId  \\\n",
       "3224   Mannerism_Late_Renaissance__correggio_madonna-...   \n",
       "5568   High_Renaissance__lorenzo-lotto_altar-of-recan...   \n",
       "6175   Romanticism__francisco-goya_blind-man-s-buff-1789   \n",
       "8136           Cubism__henri-laurens_le-grand-adieu-1941   \n",
       "5219   High_Renaissance__correggio_madonna-and-child-...   \n",
       "...                                                  ...   \n",
       "6194   Romanticism__francisco-goya_the-adoration-of-t...   \n",
       "6045   Realism__camille-corot_venice-view-of-the-escl...   \n",
       "691    Baroque__diego-velazquez_adoration-of-the-king...   \n",
       "10503   Realism__ilya-mashkov_watermelon-and-grapes-1920   \n",
       "3      Baroque__david-teniers-the-younger_a-smoker-le...   \n",
       "\n",
       "                            style                     author  \\\n",
       "3224   Mannerism_Late_Renaissance                  Correggio   \n",
       "5568             High_Renaissance              Lorenzo Lotto   \n",
       "6175                  Romanticism             Francisco Goya   \n",
       "8136                       Cubism              Henri Laurens   \n",
       "5219             High_Renaissance                  Correggio   \n",
       "...                           ...                        ...   \n",
       "6194                  Romanticism             Francisco Goya   \n",
       "6045                      Realism              Camille Corot   \n",
       "691                       Baroque            Diego Velazquez   \n",
       "10503                     Realism               Ilya Mashkov   \n",
       "3                         Baroque  David Teniers The Younger   \n",
       "\n",
       "                                       class   age  \n",
       "3224   Mannerism_Late_Renaissance__correggio  1530  \n",
       "5568         High_Renaissance__lorenzo-lotto  1508  \n",
       "6175             Romanticism__francisco-goya  1789  \n",
       "8136                   Cubism__henri-laurens  1941  \n",
       "5219             High_Renaissance__correggio  1514  \n",
       "...                                      ...   ...  \n",
       "6194             Romanticism__francisco-goya  1772  \n",
       "6045                  Realism__camille-corot  1834  \n",
       "691                 Baroque__diego-velazquez  1619  \n",
       "10503                  Realism__ilya-mashkov  1920  \n",
       "3         Baroque__david-teniers-the-younger  1643  \n",
       "\n",
       "[8610 rows x 5 columns]"
      ]
     },
     "execution_count": 90,
     "metadata": {},
     "output_type": "execute_result"
    }
   ],
   "source": [
    "df_train"
   ]
  },
  {
   "cell_type": "code",
   "execution_count": 91,
   "metadata": {
    "scrolled": true
   },
   "outputs": [
    {
     "data": {
      "text/html": [
       "<div>\n",
       "<style scoped>\n",
       "    .dataframe tbody tr th:only-of-type {\n",
       "        vertical-align: middle;\n",
       "    }\n",
       "\n",
       "    .dataframe tbody tr th {\n",
       "        vertical-align: top;\n",
       "    }\n",
       "\n",
       "    .dataframe thead th {\n",
       "        text-align: right;\n",
       "    }\n",
       "</style>\n",
       "<table border=\"1\" class=\"dataframe\">\n",
       "  <thead>\n",
       "    <tr style=\"text-align: right;\">\n",
       "      <th></th>\n",
       "      <th>imgId</th>\n",
       "      <th>style</th>\n",
       "      <th>author</th>\n",
       "      <th>class</th>\n",
       "      <th>age</th>\n",
       "    </tr>\n",
       "  </thead>\n",
       "  <tbody>\n",
       "    <tr>\n",
       "      <th>2978</th>\n",
       "      <td>Romanticism__johan-christian-dahl_copenhagen-h...</td>\n",
       "      <td>Romanticism</td>\n",
       "      <td>Johan Christian Dahl</td>\n",
       "      <td>Romanticism__johan-christian-dahl</td>\n",
       "      <td>1846</td>\n",
       "    </tr>\n",
       "    <tr>\n",
       "      <th>5796</th>\n",
       "      <td>Baroque__rembrandt_the-three-cottages-1650</td>\n",
       "      <td>Baroque</td>\n",
       "      <td>Rembrandt</td>\n",
       "      <td>Baroque__rembrandt</td>\n",
       "      <td>1650</td>\n",
       "    </tr>\n",
       "    <tr>\n",
       "      <th>9165</th>\n",
       "      <td>Impressionism__leon-dabo_a-study-of-talloires-...</td>\n",
       "      <td>Impressionism</td>\n",
       "      <td>Leon Dabo</td>\n",
       "      <td>Impressionism__leon-dabo</td>\n",
       "      <td>1939</td>\n",
       "    </tr>\n",
       "    <tr>\n",
       "      <th>3227</th>\n",
       "      <td>Mannerism_Late_Renaissance__agnolo-bronzino_th...</td>\n",
       "      <td>Mannerism_Late_Renaissance</td>\n",
       "      <td>Agnolo Bronzino</td>\n",
       "      <td>Mannerism_Late_Renaissance__agnolo-bronzino</td>\n",
       "      <td>1556</td>\n",
       "    </tr>\n",
       "    <tr>\n",
       "      <th>2646</th>\n",
       "      <td>Romanticism__francesco-hayez_melancholic-thoug...</td>\n",
       "      <td>Romanticism</td>\n",
       "      <td>Francesco Hayez</td>\n",
       "      <td>Romanticism__francesco-hayez</td>\n",
       "      <td>1842</td>\n",
       "    </tr>\n",
       "    <tr>\n",
       "      <th>...</th>\n",
       "      <td>...</td>\n",
       "      <td>...</td>\n",
       "      <td>...</td>\n",
       "      <td>...</td>\n",
       "      <td>...</td>\n",
       "    </tr>\n",
       "    <tr>\n",
       "      <th>11089</th>\n",
       "      <td>Realism__viktor-vasnetsov_portrait-of-natalia-...</td>\n",
       "      <td>Realism</td>\n",
       "      <td>Viktor Vasnetsov</td>\n",
       "      <td>Realism__viktor-vasnetsov</td>\n",
       "      <td>1883</td>\n",
       "    </tr>\n",
       "    <tr>\n",
       "      <th>108</th>\n",
       "      <td>Baroque__jacob-jordaens_satyr-and-peasant-1621</td>\n",
       "      <td>Baroque</td>\n",
       "      <td>Jacob Jordaens</td>\n",
       "      <td>Baroque__jacob-jordaens</td>\n",
       "      <td>1621</td>\n",
       "    </tr>\n",
       "    <tr>\n",
       "      <th>9138</th>\n",
       "      <td>Abstract_Expressionism__audrey-flack_abstract-...</td>\n",
       "      <td>Abstract_Expressionism</td>\n",
       "      <td>Audrey Flack</td>\n",
       "      <td>Abstract_Expressionism__audrey-flack</td>\n",
       "      <td>1952</td>\n",
       "    </tr>\n",
       "    <tr>\n",
       "      <th>6071</th>\n",
       "      <td>Realism__gustave-courbet_portrait-of-alphonse-...</td>\n",
       "      <td>Realism</td>\n",
       "      <td>Gustave Courbet</td>\n",
       "      <td>Realism__gustave-courbet</td>\n",
       "      <td>1847</td>\n",
       "    </tr>\n",
       "    <tr>\n",
       "      <th>4429</th>\n",
       "      <td>Rococo__john-russell_portrait-of-a-lady-1768</td>\n",
       "      <td>Rococo</td>\n",
       "      <td>John Russell</td>\n",
       "      <td>Rococo__john-russell</td>\n",
       "      <td>1768</td>\n",
       "    </tr>\n",
       "  </tbody>\n",
       "</table>\n",
       "<p>567 rows × 5 columns</p>\n",
       "</div>"
      ],
      "text/plain": [
       "                                                   imgId  \\\n",
       "2978   Romanticism__johan-christian-dahl_copenhagen-h...   \n",
       "5796          Baroque__rembrandt_the-three-cottages-1650   \n",
       "9165   Impressionism__leon-dabo_a-study-of-talloires-...   \n",
       "3227   Mannerism_Late_Renaissance__agnolo-bronzino_th...   \n",
       "2646   Romanticism__francesco-hayez_melancholic-thoug...   \n",
       "...                                                  ...   \n",
       "11089  Realism__viktor-vasnetsov_portrait-of-natalia-...   \n",
       "108       Baroque__jacob-jordaens_satyr-and-peasant-1621   \n",
       "9138   Abstract_Expressionism__audrey-flack_abstract-...   \n",
       "6071   Realism__gustave-courbet_portrait-of-alphonse-...   \n",
       "4429        Rococo__john-russell_portrait-of-a-lady-1768   \n",
       "\n",
       "                            style                author  \\\n",
       "2978                  Romanticism  Johan Christian Dahl   \n",
       "5796                      Baroque             Rembrandt   \n",
       "9165                Impressionism             Leon Dabo   \n",
       "3227   Mannerism_Late_Renaissance       Agnolo Bronzino   \n",
       "2646                  Romanticism       Francesco Hayez   \n",
       "...                           ...                   ...   \n",
       "11089                     Realism      Viktor Vasnetsov   \n",
       "108                       Baroque        Jacob Jordaens   \n",
       "9138       Abstract_Expressionism          Audrey Flack   \n",
       "6071                      Realism       Gustave Courbet   \n",
       "4429                       Rococo          John Russell   \n",
       "\n",
       "                                             class   age  \n",
       "2978             Romanticism__johan-christian-dahl  1846  \n",
       "5796                            Baroque__rembrandt  1650  \n",
       "9165                      Impressionism__leon-dabo  1939  \n",
       "3227   Mannerism_Late_Renaissance__agnolo-bronzino  1556  \n",
       "2646                  Romanticism__francesco-hayez  1842  \n",
       "...                                            ...   ...  \n",
       "11089                    Realism__viktor-vasnetsov  1883  \n",
       "108                        Baroque__jacob-jordaens  1621  \n",
       "9138          Abstract_Expressionism__audrey-flack  1952  \n",
       "6071                      Realism__gustave-courbet  1847  \n",
       "4429                          Rococo__john-russell  1768  \n",
       "\n",
       "[567 rows x 5 columns]"
      ]
     },
     "execution_count": 91,
     "metadata": {},
     "output_type": "execute_result"
    }
   ],
   "source": [
    "df_test"
   ]
  },
  {
   "cell_type": "code",
   "execution_count": 92,
   "metadata": {
    "scrolled": false
   },
   "outputs": [
    {
     "data": {
      "text/html": [
       "<div>\n",
       "<style scoped>\n",
       "    .dataframe tbody tr th:only-of-type {\n",
       "        vertical-align: middle;\n",
       "    }\n",
       "\n",
       "    .dataframe tbody tr th {\n",
       "        vertical-align: top;\n",
       "    }\n",
       "\n",
       "    .dataframe thead th {\n",
       "        text-align: right;\n",
       "    }\n",
       "</style>\n",
       "<table border=\"1\" class=\"dataframe\">\n",
       "  <thead>\n",
       "    <tr style=\"text-align: right;\">\n",
       "      <th></th>\n",
       "      <th>imgId</th>\n",
       "      <th>style</th>\n",
       "      <th>author</th>\n",
       "      <th>class</th>\n",
       "      <th>age</th>\n",
       "    </tr>\n",
       "  </thead>\n",
       "  <tbody>\n",
       "    <tr>\n",
       "      <th>3941</th>\n",
       "      <td>Rococo__vieira-portuense_leda-e-o-cisne-1798</td>\n",
       "      <td>Rococo</td>\n",
       "      <td>Vieira Portuense</td>\n",
       "      <td>Rococo__vieira-portuense</td>\n",
       "      <td>1798</td>\n",
       "    </tr>\n",
       "    <tr>\n",
       "      <th>9861</th>\n",
       "      <td>Realism__vincent-van-gogh_parsonage-garden-in-...</td>\n",
       "      <td>Realism</td>\n",
       "      <td>Vincent Van Gogh</td>\n",
       "      <td>Realism__vincent-van-gogh</td>\n",
       "      <td>1885</td>\n",
       "    </tr>\n",
       "    <tr>\n",
       "      <th>3711</th>\n",
       "      <td>Rococo__thomas-gainsborough_mrs-grace-d-elliot...</td>\n",
       "      <td>Rococo</td>\n",
       "      <td>Thomas Gainsborough</td>\n",
       "      <td>Rococo__thomas-gainsborough</td>\n",
       "      <td>1778</td>\n",
       "    </tr>\n",
       "    <tr>\n",
       "      <th>8951</th>\n",
       "      <td>Expressionism__pablo-picasso_big-heads-1969</td>\n",
       "      <td>Expressionism</td>\n",
       "      <td>Pablo Picasso</td>\n",
       "      <td>Expressionism__pablo-picasso</td>\n",
       "      <td>1969</td>\n",
       "    </tr>\n",
       "    <tr>\n",
       "      <th>7028</th>\n",
       "      <td>Romanticism__francisco-goya_as-far-back-as-his...</td>\n",
       "      <td>Romanticism</td>\n",
       "      <td>Francisco Goya</td>\n",
       "      <td>Romanticism__francisco-goya</td>\n",
       "      <td>1799</td>\n",
       "    </tr>\n",
       "    <tr>\n",
       "      <th>...</th>\n",
       "      <td>...</td>\n",
       "      <td>...</td>\n",
       "      <td>...</td>\n",
       "      <td>...</td>\n",
       "      <td>...</td>\n",
       "    </tr>\n",
       "    <tr>\n",
       "      <th>5703</th>\n",
       "      <td>High_Renaissance__michelangelo_st-peter-1504</td>\n",
       "      <td>High_Renaissance</td>\n",
       "      <td>Michelangelo</td>\n",
       "      <td>High_Renaissance__michelangelo</td>\n",
       "      <td>1504</td>\n",
       "    </tr>\n",
       "    <tr>\n",
       "      <th>796</th>\n",
       "      <td>Baroque__bartolome-esteban-murillo_joseph-with...</td>\n",
       "      <td>Baroque</td>\n",
       "      <td>Bartolome Esteban Murillo</td>\n",
       "      <td>Baroque__bartolome-esteban-murillo</td>\n",
       "      <td>1666</td>\n",
       "    </tr>\n",
       "    <tr>\n",
       "      <th>905</th>\n",
       "      <td>Baroque__esaias-van-de-velde_a-frozen-river-wi...</td>\n",
       "      <td>Baroque</td>\n",
       "      <td>Esaias Van De Velde</td>\n",
       "      <td>Baroque__esaias-van-de-velde</td>\n",
       "      <td>1619</td>\n",
       "    </tr>\n",
       "    <tr>\n",
       "      <th>2584</th>\n",
       "      <td>Romanticism__john-constable_flatford-mill-from...</td>\n",
       "      <td>Romanticism</td>\n",
       "      <td>John Constable</td>\n",
       "      <td>Romanticism__john-constable</td>\n",
       "      <td>1811</td>\n",
       "    </tr>\n",
       "    <tr>\n",
       "      <th>2884</th>\n",
       "      <td>Romanticism__caspar-david-friedrich_neubranden...</td>\n",
       "      <td>Romanticism</td>\n",
       "      <td>Caspar David Friedrich</td>\n",
       "      <td>Romanticism__caspar-david-friedrich</td>\n",
       "      <td>1817</td>\n",
       "    </tr>\n",
       "  </tbody>\n",
       "</table>\n",
       "<p>2153 rows × 5 columns</p>\n",
       "</div>"
      ],
      "text/plain": [
       "                                                  imgId             style  \\\n",
       "3941       Rococo__vieira-portuense_leda-e-o-cisne-1798            Rococo   \n",
       "9861  Realism__vincent-van-gogh_parsonage-garden-in-...           Realism   \n",
       "3711  Rococo__thomas-gainsborough_mrs-grace-d-elliot...            Rococo   \n",
       "8951        Expressionism__pablo-picasso_big-heads-1969     Expressionism   \n",
       "7028  Romanticism__francisco-goya_as-far-back-as-his...       Romanticism   \n",
       "...                                                 ...               ...   \n",
       "5703       High_Renaissance__michelangelo_st-peter-1504  High_Renaissance   \n",
       "796   Baroque__bartolome-esteban-murillo_joseph-with...           Baroque   \n",
       "905   Baroque__esaias-van-de-velde_a-frozen-river-wi...           Baroque   \n",
       "2584  Romanticism__john-constable_flatford-mill-from...       Romanticism   \n",
       "2884  Romanticism__caspar-david-friedrich_neubranden...       Romanticism   \n",
       "\n",
       "                         author                                class   age  \n",
       "3941           Vieira Portuense             Rococo__vieira-portuense  1798  \n",
       "9861           Vincent Van Gogh            Realism__vincent-van-gogh  1885  \n",
       "3711        Thomas Gainsborough          Rococo__thomas-gainsborough  1778  \n",
       "8951              Pablo Picasso         Expressionism__pablo-picasso  1969  \n",
       "7028             Francisco Goya          Romanticism__francisco-goya  1799  \n",
       "...                         ...                                  ...   ...  \n",
       "5703               Michelangelo       High_Renaissance__michelangelo  1504  \n",
       "796   Bartolome Esteban Murillo   Baroque__bartolome-esteban-murillo  1666  \n",
       "905         Esaias Van De Velde         Baroque__esaias-van-de-velde  1619  \n",
       "2584             John Constable          Romanticism__john-constable  1811  \n",
       "2884     Caspar David Friedrich  Romanticism__caspar-david-friedrich  1817  \n",
       "\n",
       "[2153 rows x 5 columns]"
      ]
     },
     "execution_count": 92,
     "metadata": {},
     "output_type": "execute_result"
    }
   ],
   "source": [
    "df_valid"
   ]
  },
  {
   "cell_type": "code",
   "execution_count": null,
   "metadata": {},
   "outputs": [],
   "source": []
  },
  {
   "cell_type": "code",
   "execution_count": 93,
   "metadata": {},
   "outputs": [],
   "source": [
    "df_train.to_csv(os.path.join(PATH_CSV_DIR, 'downsampling_age_train.csv'), sep=';', index=False)\n",
    "df_valid.to_csv(os.path.join(PATH_CSV_DIR, 'downsampling_age_valid.csv'), sep=';', index=False)\n",
    "df_test.to_csv(os.path.join(PATH_CSV_DIR, 'downsampling_age_test.csv'), sep=';', index=False)"
   ]
  },
  {
   "cell_type": "code",
   "execution_count": null,
   "metadata": {},
   "outputs": [],
   "source": []
  },
  {
   "cell_type": "code",
   "execution_count": 3,
   "metadata": {},
   "outputs": [],
   "source": [
    "df_train = pd.read_csv(os.path.join(PATH_CSV_DIR, 'age_train.csv'), sep=';')\n",
    "df_valid = pd.read_csv(os.path.join(PATH_CSV_DIR, 'age_valid.csv'), sep=';')\n",
    "df_test = pd.read_csv(os.path.join(PATH_CSV_DIR, 'age_test.csv'), sep=';')\n"
   ]
  },
  {
   "cell_type": "code",
   "execution_count": 5,
   "metadata": {},
   "outputs": [
    {
     "data": {
      "text/plain": [
       "(1405, 2012)"
      ]
     },
     "execution_count": 5,
     "metadata": {},
     "output_type": "execute_result"
    }
   ],
   "source": [
    "df_train.age.min(), df_train.age.max(),"
   ]
  },
  {
   "cell_type": "code",
   "execution_count": 6,
   "metadata": {},
   "outputs": [
    {
     "data": {
      "text/plain": [
       "(1409, 2012)"
      ]
     },
     "execution_count": 6,
     "metadata": {},
     "output_type": "execute_result"
    }
   ],
   "source": [
    "df_valid.age.min(), df_valid.age.max(),"
   ]
  },
  {
   "cell_type": "code",
   "execution_count": 7,
   "metadata": {},
   "outputs": [
    {
     "data": {
      "text/plain": [
       "(1401, 2011)"
      ]
     },
     "execution_count": 7,
     "metadata": {},
     "output_type": "execute_result"
    }
   ],
   "source": [
    "df_test.age.min(), df_test.age.max()"
   ]
  },
  {
   "cell_type": "code",
   "execution_count": null,
   "metadata": {},
   "outputs": [],
   "source": []
  },
  {
   "cell_type": "markdown",
   "metadata": {},
   "source": [
    "## Add \"age\" to index.csv"
   ]
  },
  {
   "cell_type": "code",
   "execution_count": 4,
   "metadata": {},
   "outputs": [
    {
     "data": {
      "text/html": [
       "<div>\n",
       "<style scoped>\n",
       "    .dataframe tbody tr th:only-of-type {\n",
       "        vertical-align: middle;\n",
       "    }\n",
       "\n",
       "    .dataframe tbody tr th {\n",
       "        vertical-align: top;\n",
       "    }\n",
       "\n",
       "    .dataframe thead th {\n",
       "        text-align: right;\n",
       "    }\n",
       "</style>\n",
       "<table border=\"1\" class=\"dataframe\">\n",
       "  <thead>\n",
       "    <tr style=\"text-align: right;\">\n",
       "      <th></th>\n",
       "      <th>imgId</th>\n",
       "      <th>style</th>\n",
       "      <th>author</th>\n",
       "      <th>class</th>\n",
       "    </tr>\n",
       "  </thead>\n",
       "  <tbody>\n",
       "    <tr>\n",
       "      <th>0</th>\n",
       "      <td>Baroque__jacob-jordaens_the-mission-of-st-pete...</td>\n",
       "      <td>Baroque</td>\n",
       "      <td>Jacob Jordaens</td>\n",
       "      <td>Baroque__jacob-jordaens</td>\n",
       "    </tr>\n",
       "    <tr>\n",
       "      <th>1</th>\n",
       "      <td>Baroque__jacob-jordaens_study-of-the-head-of-a...</td>\n",
       "      <td>Baroque</td>\n",
       "      <td>Jacob Jordaens</td>\n",
       "      <td>Baroque__jacob-jordaens</td>\n",
       "    </tr>\n",
       "    <tr>\n",
       "      <th>2</th>\n",
       "      <td>Baroque__bartolome-esteban-murillo_st-isidore-...</td>\n",
       "      <td>Baroque</td>\n",
       "      <td>Bartolome Esteban Murillo</td>\n",
       "      <td>Baroque__bartolome-esteban-murillo</td>\n",
       "    </tr>\n",
       "    <tr>\n",
       "      <th>3</th>\n",
       "      <td>Baroque__frans-snyders_a-fruit-stall-1</td>\n",
       "      <td>Baroque</td>\n",
       "      <td>Frans Snyders</td>\n",
       "      <td>Baroque__frans-snyders</td>\n",
       "    </tr>\n",
       "    <tr>\n",
       "      <th>4</th>\n",
       "      <td>Baroque__david-teniers-the-younger_a-smoker-le...</td>\n",
       "      <td>Baroque</td>\n",
       "      <td>David Teniers The Younger</td>\n",
       "      <td>Baroque__david-teniers-the-younger</td>\n",
       "    </tr>\n",
       "    <tr>\n",
       "      <th>...</th>\n",
       "      <td>...</td>\n",
       "      <td>...</td>\n",
       "      <td>...</td>\n",
       "      <td>...</td>\n",
       "    </tr>\n",
       "    <tr>\n",
       "      <th>69331</th>\n",
       "      <td>Baroque__alonzo-cano_noli-me-tangere</td>\n",
       "      <td>Baroque</td>\n",
       "      <td>Alonzo Cano</td>\n",
       "      <td>Baroque__alonzo-cano</td>\n",
       "    </tr>\n",
       "    <tr>\n",
       "      <th>69332</th>\n",
       "      <td>Color_Field_Painting__frank-stella_sinjerli-va...</td>\n",
       "      <td>Color_Field_Painting</td>\n",
       "      <td>Frank Stella</td>\n",
       "      <td>Color_Field_Painting__frank-stella</td>\n",
       "    </tr>\n",
       "    <tr>\n",
       "      <th>69333</th>\n",
       "      <td>Realism__camille-corot_the-bay-of-somme</td>\n",
       "      <td>Realism</td>\n",
       "      <td>Camille Corot</td>\n",
       "      <td>Realism__camille-corot</td>\n",
       "    </tr>\n",
       "    <tr>\n",
       "      <th>69334</th>\n",
       "      <td>Early_Renaissance__masaccio_portrait-of-a-youn...</td>\n",
       "      <td>Early_Renaissance</td>\n",
       "      <td>Masaccio</td>\n",
       "      <td>Early_Renaissance__masaccio</td>\n",
       "    </tr>\n",
       "    <tr>\n",
       "      <th>69335</th>\n",
       "      <td>Synthetic_Cubism__juan-gris_bottle-of-beaune-a...</td>\n",
       "      <td>Synthetic_Cubism</td>\n",
       "      <td>Juan Gris</td>\n",
       "      <td>Synthetic_Cubism__juan-gris</td>\n",
       "    </tr>\n",
       "  </tbody>\n",
       "</table>\n",
       "<p>69336 rows × 4 columns</p>\n",
       "</div>"
      ],
      "text/plain": [
       "                                                   imgId  \\\n",
       "0      Baroque__jacob-jordaens_the-mission-of-st-pete...   \n",
       "1      Baroque__jacob-jordaens_study-of-the-head-of-a...   \n",
       "2      Baroque__bartolome-esteban-murillo_st-isidore-...   \n",
       "3                 Baroque__frans-snyders_a-fruit-stall-1   \n",
       "4      Baroque__david-teniers-the-younger_a-smoker-le...   \n",
       "...                                                  ...   \n",
       "69331               Baroque__alonzo-cano_noli-me-tangere   \n",
       "69332  Color_Field_Painting__frank-stella_sinjerli-va...   \n",
       "69333            Realism__camille-corot_the-bay-of-somme   \n",
       "69334  Early_Renaissance__masaccio_portrait-of-a-youn...   \n",
       "69335  Synthetic_Cubism__juan-gris_bottle-of-beaune-a...   \n",
       "\n",
       "                      style                     author  \\\n",
       "0                   Baroque             Jacob Jordaens   \n",
       "1                   Baroque             Jacob Jordaens   \n",
       "2                   Baroque  Bartolome Esteban Murillo   \n",
       "3                   Baroque              Frans Snyders   \n",
       "4                   Baroque  David Teniers The Younger   \n",
       "...                     ...                        ...   \n",
       "69331               Baroque                Alonzo Cano   \n",
       "69332  Color_Field_Painting               Frank Stella   \n",
       "69333               Realism              Camille Corot   \n",
       "69334     Early_Renaissance                   Masaccio   \n",
       "69335      Synthetic_Cubism                  Juan Gris   \n",
       "\n",
       "                                    class  \n",
       "0                 Baroque__jacob-jordaens  \n",
       "1                 Baroque__jacob-jordaens  \n",
       "2      Baroque__bartolome-esteban-murillo  \n",
       "3                  Baroque__frans-snyders  \n",
       "4      Baroque__david-teniers-the-younger  \n",
       "...                                   ...  \n",
       "69331                Baroque__alonzo-cano  \n",
       "69332  Color_Field_Painting__frank-stella  \n",
       "69333              Realism__camille-corot  \n",
       "69334         Early_Renaissance__masaccio  \n",
       "69335         Synthetic_Cubism__juan-gris  \n",
       "\n",
       "[69336 rows x 4 columns]"
      ]
     },
     "execution_count": 4,
     "metadata": {},
     "output_type": "execute_result"
    }
   ],
   "source": [
    "df_index"
   ]
  },
  {
   "cell_type": "code",
   "execution_count": 6,
   "metadata": {},
   "outputs": [],
   "source": [
    "df_index['age'] = df_index['imgId'].apply(lambda x: str_to_age(x))"
   ]
  },
  {
   "cell_type": "code",
   "execution_count": 8,
   "metadata": {},
   "outputs": [],
   "source": [
    "df_index.loc[df_index.age == 0, 'age'] = None"
   ]
  },
  {
   "cell_type": "code",
   "execution_count": 11,
   "metadata": {},
   "outputs": [
    {
     "data": {
      "text/html": [
       "<div>\n",
       "<style scoped>\n",
       "    .dataframe tbody tr th:only-of-type {\n",
       "        vertical-align: middle;\n",
       "    }\n",
       "\n",
       "    .dataframe tbody tr th {\n",
       "        vertical-align: top;\n",
       "    }\n",
       "\n",
       "    .dataframe thead th {\n",
       "        text-align: right;\n",
       "    }\n",
       "</style>\n",
       "<table border=\"1\" class=\"dataframe\">\n",
       "  <thead>\n",
       "    <tr style=\"text-align: right;\">\n",
       "      <th></th>\n",
       "      <th>imgId</th>\n",
       "      <th>style</th>\n",
       "      <th>author</th>\n",
       "      <th>class</th>\n",
       "      <th>age</th>\n",
       "    </tr>\n",
       "  </thead>\n",
       "  <tbody>\n",
       "    <tr>\n",
       "      <th>0</th>\n",
       "      <td>Baroque__jacob-jordaens_the-mission-of-st-pete...</td>\n",
       "      <td>Baroque</td>\n",
       "      <td>Jacob Jordaens</td>\n",
       "      <td>Baroque__jacob-jordaens</td>\n",
       "      <td>1617.0</td>\n",
       "    </tr>\n",
       "    <tr>\n",
       "      <th>1</th>\n",
       "      <td>Baroque__jacob-jordaens_study-of-the-head-of-a...</td>\n",
       "      <td>Baroque</td>\n",
       "      <td>Jacob Jordaens</td>\n",
       "      <td>Baroque__jacob-jordaens</td>\n",
       "      <td>1621.0</td>\n",
       "    </tr>\n",
       "    <tr>\n",
       "      <th>2</th>\n",
       "      <td>Baroque__bartolome-esteban-murillo_st-isidore-...</td>\n",
       "      <td>Baroque</td>\n",
       "      <td>Bartolome Esteban Murillo</td>\n",
       "      <td>Baroque__bartolome-esteban-murillo</td>\n",
       "      <td>1655.0</td>\n",
       "    </tr>\n",
       "    <tr>\n",
       "      <th>3</th>\n",
       "      <td>Baroque__frans-snyders_a-fruit-stall-1</td>\n",
       "      <td>Baroque</td>\n",
       "      <td>Frans Snyders</td>\n",
       "      <td>Baroque__frans-snyders</td>\n",
       "      <td>NaN</td>\n",
       "    </tr>\n",
       "    <tr>\n",
       "      <th>4</th>\n",
       "      <td>Baroque__david-teniers-the-younger_a-smoker-le...</td>\n",
       "      <td>Baroque</td>\n",
       "      <td>David Teniers The Younger</td>\n",
       "      <td>Baroque__david-teniers-the-younger</td>\n",
       "      <td>1643.0</td>\n",
       "    </tr>\n",
       "    <tr>\n",
       "      <th>...</th>\n",
       "      <td>...</td>\n",
       "      <td>...</td>\n",
       "      <td>...</td>\n",
       "      <td>...</td>\n",
       "      <td>...</td>\n",
       "    </tr>\n",
       "    <tr>\n",
       "      <th>69331</th>\n",
       "      <td>Baroque__alonzo-cano_noli-me-tangere</td>\n",
       "      <td>Baroque</td>\n",
       "      <td>Alonzo Cano</td>\n",
       "      <td>Baroque__alonzo-cano</td>\n",
       "      <td>NaN</td>\n",
       "    </tr>\n",
       "    <tr>\n",
       "      <th>69332</th>\n",
       "      <td>Color_Field_Painting__frank-stella_sinjerli-va...</td>\n",
       "      <td>Color_Field_Painting</td>\n",
       "      <td>Frank Stella</td>\n",
       "      <td>Color_Field_Painting__frank-stella</td>\n",
       "      <td>1977.0</td>\n",
       "    </tr>\n",
       "    <tr>\n",
       "      <th>69333</th>\n",
       "      <td>Realism__camille-corot_the-bay-of-somme</td>\n",
       "      <td>Realism</td>\n",
       "      <td>Camille Corot</td>\n",
       "      <td>Realism__camille-corot</td>\n",
       "      <td>NaN</td>\n",
       "    </tr>\n",
       "    <tr>\n",
       "      <th>69334</th>\n",
       "      <td>Early_Renaissance__masaccio_portrait-of-a-youn...</td>\n",
       "      <td>Early_Renaissance</td>\n",
       "      <td>Masaccio</td>\n",
       "      <td>Early_Renaissance__masaccio</td>\n",
       "      <td>1425.0</td>\n",
       "    </tr>\n",
       "    <tr>\n",
       "      <th>69335</th>\n",
       "      <td>Synthetic_Cubism__juan-gris_bottle-of-beaune-a...</td>\n",
       "      <td>Synthetic_Cubism</td>\n",
       "      <td>Juan Gris</td>\n",
       "      <td>Synthetic_Cubism__juan-gris</td>\n",
       "      <td>1917.0</td>\n",
       "    </tr>\n",
       "  </tbody>\n",
       "</table>\n",
       "<p>69336 rows × 5 columns</p>\n",
       "</div>"
      ],
      "text/plain": [
       "                                                   imgId  \\\n",
       "0      Baroque__jacob-jordaens_the-mission-of-st-pete...   \n",
       "1      Baroque__jacob-jordaens_study-of-the-head-of-a...   \n",
       "2      Baroque__bartolome-esteban-murillo_st-isidore-...   \n",
       "3                 Baroque__frans-snyders_a-fruit-stall-1   \n",
       "4      Baroque__david-teniers-the-younger_a-smoker-le...   \n",
       "...                                                  ...   \n",
       "69331               Baroque__alonzo-cano_noli-me-tangere   \n",
       "69332  Color_Field_Painting__frank-stella_sinjerli-va...   \n",
       "69333            Realism__camille-corot_the-bay-of-somme   \n",
       "69334  Early_Renaissance__masaccio_portrait-of-a-youn...   \n",
       "69335  Synthetic_Cubism__juan-gris_bottle-of-beaune-a...   \n",
       "\n",
       "                      style                     author  \\\n",
       "0                   Baroque             Jacob Jordaens   \n",
       "1                   Baroque             Jacob Jordaens   \n",
       "2                   Baroque  Bartolome Esteban Murillo   \n",
       "3                   Baroque              Frans Snyders   \n",
       "4                   Baroque  David Teniers The Younger   \n",
       "...                     ...                        ...   \n",
       "69331               Baroque                Alonzo Cano   \n",
       "69332  Color_Field_Painting               Frank Stella   \n",
       "69333               Realism              Camille Corot   \n",
       "69334     Early_Renaissance                   Masaccio   \n",
       "69335      Synthetic_Cubism                  Juan Gris   \n",
       "\n",
       "                                    class     age  \n",
       "0                 Baroque__jacob-jordaens  1617.0  \n",
       "1                 Baroque__jacob-jordaens  1621.0  \n",
       "2      Baroque__bartolome-esteban-murillo  1655.0  \n",
       "3                  Baroque__frans-snyders     NaN  \n",
       "4      Baroque__david-teniers-the-younger  1643.0  \n",
       "...                                   ...     ...  \n",
       "69331                Baroque__alonzo-cano     NaN  \n",
       "69332  Color_Field_Painting__frank-stella  1977.0  \n",
       "69333              Realism__camille-corot     NaN  \n",
       "69334         Early_Renaissance__masaccio  1425.0  \n",
       "69335         Synthetic_Cubism__juan-gris  1917.0  \n",
       "\n",
       "[69336 rows x 5 columns]"
      ]
     },
     "execution_count": 11,
     "metadata": {},
     "output_type": "execute_result"
    }
   ],
   "source": [
    "df_index"
   ]
  },
  {
   "cell_type": "code",
   "execution_count": 10,
   "metadata": {},
   "outputs": [],
   "source": [
    "df_index.to_csv(os.path.join(PATH_CSV_DIR, 'age_index.csv'),\n",
    "               sep=';', index=False)"
   ]
  },
  {
   "cell_type": "code",
   "execution_count": 47,
   "metadata": {},
   "outputs": [
    {
     "data": {
      "text/html": [
       "<div>\n",
       "<style scoped>\n",
       "    .dataframe tbody tr th:only-of-type {\n",
       "        vertical-align: middle;\n",
       "    }\n",
       "\n",
       "    .dataframe tbody tr th {\n",
       "        vertical-align: top;\n",
       "    }\n",
       "\n",
       "    .dataframe thead th {\n",
       "        text-align: right;\n",
       "    }\n",
       "</style>\n",
       "<table border=\"1\" class=\"dataframe\">\n",
       "  <thead>\n",
       "    <tr style=\"text-align: right;\">\n",
       "      <th></th>\n",
       "      <th>imgId</th>\n",
       "      <th>style</th>\n",
       "      <th>author</th>\n",
       "      <th>class</th>\n",
       "      <th>age</th>\n",
       "    </tr>\n",
       "  </thead>\n",
       "  <tbody>\n",
       "    <tr>\n",
       "      <th>0</th>\n",
       "      <td>Baroque__jacob-jordaens_the-mission-of-st-pete...</td>\n",
       "      <td>Baroque</td>\n",
       "      <td>Jacob Jordaens</td>\n",
       "      <td>Baroque__jacob-jordaens</td>\n",
       "      <td>1617.0</td>\n",
       "    </tr>\n",
       "    <tr>\n",
       "      <th>1</th>\n",
       "      <td>Baroque__jacob-jordaens_study-of-the-head-of-a...</td>\n",
       "      <td>Baroque</td>\n",
       "      <td>Jacob Jordaens</td>\n",
       "      <td>Baroque__jacob-jordaens</td>\n",
       "      <td>1621.0</td>\n",
       "    </tr>\n",
       "    <tr>\n",
       "      <th>49</th>\n",
       "      <td>Baroque__jacob-jordaens_the-flight-into-egypt-...</td>\n",
       "      <td>Baroque</td>\n",
       "      <td>Jacob Jordaens</td>\n",
       "      <td>Baroque__jacob-jordaens</td>\n",
       "      <td>1641.0</td>\n",
       "    </tr>\n",
       "    <tr>\n",
       "      <th>108</th>\n",
       "      <td>Baroque__jacob-jordaens_allegory-of-abundance</td>\n",
       "      <td>Baroque</td>\n",
       "      <td>Jacob Jordaens</td>\n",
       "      <td>Baroque__jacob-jordaens</td>\n",
       "      <td>NaN</td>\n",
       "    </tr>\n",
       "    <tr>\n",
       "      <th>135</th>\n",
       "      <td>Baroque__jacob-jordaens_head-of-an-old-woman</td>\n",
       "      <td>Baroque</td>\n",
       "      <td>Jacob Jordaens</td>\n",
       "      <td>Baroque__jacob-jordaens</td>\n",
       "      <td>NaN</td>\n",
       "    </tr>\n",
       "    <tr>\n",
       "      <th>...</th>\n",
       "      <td>...</td>\n",
       "      <td>...</td>\n",
       "      <td>...</td>\n",
       "      <td>...</td>\n",
       "      <td>...</td>\n",
       "    </tr>\n",
       "    <tr>\n",
       "      <th>67510</th>\n",
       "      <td>Baroque__jacob-jordaens_portrait-of-the-rogier...</td>\n",
       "      <td>Baroque</td>\n",
       "      <td>Jacob Jordaens</td>\n",
       "      <td>Baroque__jacob-jordaens</td>\n",
       "      <td>1635.0</td>\n",
       "    </tr>\n",
       "    <tr>\n",
       "      <th>67758</th>\n",
       "      <td>Baroque__jacob-jordaens_the-peasants-and-the-s...</td>\n",
       "      <td>Baroque</td>\n",
       "      <td>Jacob Jordaens</td>\n",
       "      <td>Baroque__jacob-jordaens</td>\n",
       "      <td>NaN</td>\n",
       "    </tr>\n",
       "    <tr>\n",
       "      <th>68237</th>\n",
       "      <td>Baroque__jacob-jordaens_as-the-old-sang-so-the...</td>\n",
       "      <td>Baroque</td>\n",
       "      <td>Jacob Jordaens</td>\n",
       "      <td>Baroque__jacob-jordaens</td>\n",
       "      <td>1638.0</td>\n",
       "    </tr>\n",
       "    <tr>\n",
       "      <th>68357</th>\n",
       "      <td>Baroque__jacob-jordaens_the-return-from-egypt-...</td>\n",
       "      <td>Baroque</td>\n",
       "      <td>Jacob Jordaens</td>\n",
       "      <td>Baroque__jacob-jordaens</td>\n",
       "      <td>1616.0</td>\n",
       "    </tr>\n",
       "    <tr>\n",
       "      <th>68466</th>\n",
       "      <td>Baroque__jacob-jordaens_love-of-cupid-and-psyc...</td>\n",
       "      <td>Baroque</td>\n",
       "      <td>Jacob Jordaens</td>\n",
       "      <td>Baroque__jacob-jordaens</td>\n",
       "      <td>1644.0</td>\n",
       "    </tr>\n",
       "  </tbody>\n",
       "</table>\n",
       "<p>151 rows × 5 columns</p>\n",
       "</div>"
      ],
      "text/plain": [
       "                                                   imgId    style  \\\n",
       "0      Baroque__jacob-jordaens_the-mission-of-st-pete...  Baroque   \n",
       "1      Baroque__jacob-jordaens_study-of-the-head-of-a...  Baroque   \n",
       "49     Baroque__jacob-jordaens_the-flight-into-egypt-...  Baroque   \n",
       "108        Baroque__jacob-jordaens_allegory-of-abundance  Baroque   \n",
       "135         Baroque__jacob-jordaens_head-of-an-old-woman  Baroque   \n",
       "...                                                  ...      ...   \n",
       "67510  Baroque__jacob-jordaens_portrait-of-the-rogier...  Baroque   \n",
       "67758  Baroque__jacob-jordaens_the-peasants-and-the-s...  Baroque   \n",
       "68237  Baroque__jacob-jordaens_as-the-old-sang-so-the...  Baroque   \n",
       "68357  Baroque__jacob-jordaens_the-return-from-egypt-...  Baroque   \n",
       "68466  Baroque__jacob-jordaens_love-of-cupid-and-psyc...  Baroque   \n",
       "\n",
       "               author                    class     age  \n",
       "0      Jacob Jordaens  Baroque__jacob-jordaens  1617.0  \n",
       "1      Jacob Jordaens  Baroque__jacob-jordaens  1621.0  \n",
       "49     Jacob Jordaens  Baroque__jacob-jordaens  1641.0  \n",
       "108    Jacob Jordaens  Baroque__jacob-jordaens     NaN  \n",
       "135    Jacob Jordaens  Baroque__jacob-jordaens     NaN  \n",
       "...               ...                      ...     ...  \n",
       "67510  Jacob Jordaens  Baroque__jacob-jordaens  1635.0  \n",
       "67758  Jacob Jordaens  Baroque__jacob-jordaens     NaN  \n",
       "68237  Jacob Jordaens  Baroque__jacob-jordaens  1638.0  \n",
       "68357  Jacob Jordaens  Baroque__jacob-jordaens  1616.0  \n",
       "68466  Jacob Jordaens  Baroque__jacob-jordaens  1644.0  \n",
       "\n",
       "[151 rows x 5 columns]"
      ]
     },
     "execution_count": 47,
     "metadata": {},
     "output_type": "execute_result"
    }
   ],
   "source": [
    "df_index[df_index['class'].isin(['Baroque__jacob-jordaens', 'Synthetic_Cubism__juan-gris'])]"
   ]
  },
  {
   "cell_type": "code",
   "execution_count": null,
   "metadata": {},
   "outputs": [],
   "source": []
  },
  {
   "cell_type": "code",
   "execution_count": 76,
   "metadata": {},
   "outputs": [],
   "source": [
    "df_age_train = pd.read_csv(os.path.join(PATH_CSV_DIR, 'age_train.csv'), sep=';')\n",
    "df_age_valid = pd.read_csv(os.path.join(PATH_CSV_DIR, 'age_valid.csv'), sep=';')\n",
    "df_age_test = pd.read_csv(os.path.join(PATH_CSV_DIR, 'age_test.csv'), sep=';')\n",
    "\n",
    "df_age = pd.concat([df_age_train, df_age_valid, df_age_test],\n",
    "                  ignore_index=True)"
   ]
  },
  {
   "cell_type": "code",
   "execution_count": null,
   "metadata": {},
   "outputs": [],
   "source": []
  },
  {
   "cell_type": "code",
   "execution_count": 78,
   "metadata": {},
   "outputs": [],
   "source": [
    "df_test = df_test.merge(df_age, how='left', on=['imgId', 'style', 'author', 'class'])"
   ]
  },
  {
   "cell_type": "code",
   "execution_count": 79,
   "metadata": {},
   "outputs": [
    {
     "data": {
      "text/html": [
       "<div>\n",
       "<style scoped>\n",
       "    .dataframe tbody tr th:only-of-type {\n",
       "        vertical-align: middle;\n",
       "    }\n",
       "\n",
       "    .dataframe tbody tr th {\n",
       "        vertical-align: top;\n",
       "    }\n",
       "\n",
       "    .dataframe thead th {\n",
       "        text-align: right;\n",
       "    }\n",
       "</style>\n",
       "<table border=\"1\" class=\"dataframe\">\n",
       "  <thead>\n",
       "    <tr style=\"text-align: right;\">\n",
       "      <th></th>\n",
       "      <th>imgId</th>\n",
       "      <th>style</th>\n",
       "      <th>author</th>\n",
       "      <th>class</th>\n",
       "      <th>age</th>\n",
       "    </tr>\n",
       "  </thead>\n",
       "  <tbody>\n",
       "    <tr>\n",
       "      <th>0</th>\n",
       "      <td>Abstract_Expressionism__jack-youngerman_august...</td>\n",
       "      <td>Abstract_Expressionism</td>\n",
       "      <td>Jack Youngerman</td>\n",
       "      <td>Abstract_Expressionism__jack-youngerman</td>\n",
       "      <td>1966.0</td>\n",
       "    </tr>\n",
       "    <tr>\n",
       "      <th>1</th>\n",
       "      <td>Abstract_Expressionism__theodoros-stamos_infin...</td>\n",
       "      <td>Abstract_Expressionism</td>\n",
       "      <td>Theodoros Stamos</td>\n",
       "      <td>Abstract_Expressionism__theodoros-stamos</td>\n",
       "      <td>1980.0</td>\n",
       "    </tr>\n",
       "    <tr>\n",
       "      <th>2</th>\n",
       "      <td>Abstract_Expressionism__william-baziotes_eclip...</td>\n",
       "      <td>Abstract_Expressionism</td>\n",
       "      <td>William Baziotes</td>\n",
       "      <td>Abstract_Expressionism__william-baziotes</td>\n",
       "      <td>1950.0</td>\n",
       "    </tr>\n",
       "    <tr>\n",
       "      <th>3</th>\n",
       "      <td>Abstract_Expressionism__joan-miro_the-birth-of...</td>\n",
       "      <td>Abstract_Expressionism</td>\n",
       "      <td>Joan Miro</td>\n",
       "      <td>Abstract_Expressionism__joan-miro</td>\n",
       "      <td>NaN</td>\n",
       "    </tr>\n",
       "    <tr>\n",
       "      <th>4</th>\n",
       "      <td>Abstract_Expressionism__sam-francis_untitled-s...</td>\n",
       "      <td>Abstract_Expressionism</td>\n",
       "      <td>Sam Francis</td>\n",
       "      <td>Abstract_Expressionism__sam-francis</td>\n",
       "      <td>1989.0</td>\n",
       "    </tr>\n",
       "    <tr>\n",
       "      <th>...</th>\n",
       "      <td>...</td>\n",
       "      <td>...</td>\n",
       "      <td>...</td>\n",
       "      <td>...</td>\n",
       "      <td>...</td>\n",
       "    </tr>\n",
       "    <tr>\n",
       "      <th>170</th>\n",
       "      <td>Ukiyo_e__tsukioka-yoshitoshi_the-seven-lucky-gods</td>\n",
       "      <td>Ukiyo_e</td>\n",
       "      <td>Tsukioka Yoshitoshi</td>\n",
       "      <td>Ukiyo_e__tsukioka-yoshitoshi</td>\n",
       "      <td>NaN</td>\n",
       "    </tr>\n",
       "    <tr>\n",
       "      <th>171</th>\n",
       "      <td>Ukiyo_e__keisai-eisen_pipe-smokers-1835(1)</td>\n",
       "      <td>Ukiyo_e</td>\n",
       "      <td>Keisai Eisen</td>\n",
       "      <td>Ukiyo_e__keisai-eisen</td>\n",
       "      <td>1835.0</td>\n",
       "    </tr>\n",
       "    <tr>\n",
       "      <th>172</th>\n",
       "      <td>Ukiyo_e__katsushika-hokusai_shimomeguro</td>\n",
       "      <td>Ukiyo_e</td>\n",
       "      <td>Katsushika Hokusai</td>\n",
       "      <td>Ukiyo_e__katsushika-hokusai</td>\n",
       "      <td>NaN</td>\n",
       "    </tr>\n",
       "    <tr>\n",
       "      <th>173</th>\n",
       "      <td>Ukiyo_e__tsukioka-yoshitoshi_not_detected_242422</td>\n",
       "      <td>Ukiyo_e</td>\n",
       "      <td>Tsukioka Yoshitoshi</td>\n",
       "      <td>Ukiyo_e__tsukioka-yoshitoshi</td>\n",
       "      <td>NaN</td>\n",
       "    </tr>\n",
       "    <tr>\n",
       "      <th>174</th>\n",
       "      <td>Ukiyo_e__utagawa-kuniyoshi_oki-no-jiro-hiroari...</td>\n",
       "      <td>Ukiyo_e</td>\n",
       "      <td>Utagawa Kuniyoshi</td>\n",
       "      <td>Ukiyo_e__utagawa-kuniyoshi</td>\n",
       "      <td>NaN</td>\n",
       "    </tr>\n",
       "  </tbody>\n",
       "</table>\n",
       "<p>175 rows × 5 columns</p>\n",
       "</div>"
      ],
      "text/plain": [
       "                                                 imgId  \\\n",
       "0    Abstract_Expressionism__jack-youngerman_august...   \n",
       "1    Abstract_Expressionism__theodoros-stamos_infin...   \n",
       "2    Abstract_Expressionism__william-baziotes_eclip...   \n",
       "3    Abstract_Expressionism__joan-miro_the-birth-of...   \n",
       "4    Abstract_Expressionism__sam-francis_untitled-s...   \n",
       "..                                                 ...   \n",
       "170  Ukiyo_e__tsukioka-yoshitoshi_the-seven-lucky-gods   \n",
       "171         Ukiyo_e__keisai-eisen_pipe-smokers-1835(1)   \n",
       "172            Ukiyo_e__katsushika-hokusai_shimomeguro   \n",
       "173   Ukiyo_e__tsukioka-yoshitoshi_not_detected_242422   \n",
       "174  Ukiyo_e__utagawa-kuniyoshi_oki-no-jiro-hiroari...   \n",
       "\n",
       "                      style               author  \\\n",
       "0    Abstract_Expressionism      Jack Youngerman   \n",
       "1    Abstract_Expressionism     Theodoros Stamos   \n",
       "2    Abstract_Expressionism     William Baziotes   \n",
       "3    Abstract_Expressionism            Joan Miro   \n",
       "4    Abstract_Expressionism          Sam Francis   \n",
       "..                      ...                  ...   \n",
       "170                 Ukiyo_e  Tsukioka Yoshitoshi   \n",
       "171                 Ukiyo_e         Keisai Eisen   \n",
       "172                 Ukiyo_e   Katsushika Hokusai   \n",
       "173                 Ukiyo_e  Tsukioka Yoshitoshi   \n",
       "174                 Ukiyo_e    Utagawa Kuniyoshi   \n",
       "\n",
       "                                        class     age  \n",
       "0     Abstract_Expressionism__jack-youngerman  1966.0  \n",
       "1    Abstract_Expressionism__theodoros-stamos  1980.0  \n",
       "2    Abstract_Expressionism__william-baziotes  1950.0  \n",
       "3           Abstract_Expressionism__joan-miro     NaN  \n",
       "4         Abstract_Expressionism__sam-francis  1989.0  \n",
       "..                                        ...     ...  \n",
       "170              Ukiyo_e__tsukioka-yoshitoshi     NaN  \n",
       "171                     Ukiyo_e__keisai-eisen  1835.0  \n",
       "172               Ukiyo_e__katsushika-hokusai     NaN  \n",
       "173              Ukiyo_e__tsukioka-yoshitoshi     NaN  \n",
       "174                Ukiyo_e__utagawa-kuniyoshi     NaN  \n",
       "\n",
       "[175 rows x 5 columns]"
      ]
     },
     "execution_count": 79,
     "metadata": {},
     "output_type": "execute_result"
    }
   ],
   "source": [
    "df_test"
   ]
  },
  {
   "cell_type": "code",
   "execution_count": 80,
   "metadata": {},
   "outputs": [
    {
     "data": {
      "text/plain": [
       "array(['Abstract_Expressionism__jack-youngerman_august-31-1966',\n",
       "       'Abstract_Expressionism__theodoros-stamos_infinity-field-lefkada-series-1980(2)',\n",
       "       'Abstract_Expressionism__william-baziotes_eclipse-1950',\n",
       "       'Abstract_Expressionism__joan-miro_the-birth-of-day',\n",
       "       'Abstract_Expressionism__sam-francis_untitled-sfe-071-1989',\n",
       "       'Abstract_Expressionism__elaine-de-kooning_cave-126-1986',\n",
       "       'Abstract_Expressionism__dan-christensen_jivaro-i',\n",
       "       'Art_Nouveau_Modern__alexandre-benois_letter-b-1904(4)',\n",
       "       'Art_Nouveau_Modern__nicholas-roerich_san-gimignano-1906',\n",
       "       'Art_Nouveau_Modern__zinaida-serebriakova_portrait-of-a-peasant-i-d-golubeva-1914',\n",
       "       'Art_Nouveau_Modern__nicholas-roerich_terem-of-yaroslavna-1',\n",
       "       'Art_Nouveau_Modern__aubrey-beardsley_the-toilet',\n",
       "       'Art_Nouveau_Modern__boris-kustodiev_moor-1914',\n",
       "       'Art_Nouveau_Modern__heorhiy-narbut_organ-1910',\n",
       "       'Baroque__peter-paul-rubens_portrait-of-george-villiers-1st-duke-of-buckingham',\n",
       "       'Baroque__joshua-reynolds_kitty-fisher-1764',\n",
       "       'Baroque__paul-bril_a-wooded-landscape-with-a-bridge-and-sportsmen-at-the-edge-of-the-river-1590',\n",
       "       'Baroque__adriaen-van-ostade_the-cottage-dooryard',\n",
       "       'Baroque__rembrandt_an-old-woman-sleeping-1635',\n",
       "       'Baroque__aleksey-antropov_portrait-of-catherine-ii',\n",
       "       'Baroque__rembrandt_titus',\n",
       "       'Color_Field_Painting__sam-gilliam_bowling-2001',\n",
       "       'Color_Field_Painting__helen-frankenthaler_cameo-1980',\n",
       "       'Color_Field_Painting__gotthard-graubner_untitled-1983',\n",
       "       'Color_Field_Painting__sam-francis_hommage-to-alfred-jensen-1958',\n",
       "       'Color_Field_Painting__edward-avedisian_untitled-1962',\n",
       "       'Color_Field_Painting__jack-bush_green-loop-1971',\n",
       "       'Color_Field_Painting__manabu-mabe_human-condition',\n",
       "       'Contemporary_Realism__richard-whitney_hugh-gallen',\n",
       "       'Contemporary_Realism__richard-whitney_robert-reich',\n",
       "       'Contemporary_Realism__john-miller_penwith-beach',\n",
       "       'Contemporary_Realism__neil-welliver_study-for-blue-ducktrap',\n",
       "       'Contemporary_Realism__richard-whitney_walpole-meadow',\n",
       "       'Contemporary_Realism__jamie-wyeth_twin-houses-1969',\n",
       "       'Contemporary_Realism__jamie-wyeth_cat-bates-of-monhegan-1995',\n",
       "       'Cubism__fernand-leger_the-hairy',\n",
       "       'Cubism__andre-derain_still-life-1914',\n",
       "       'Cubism__willi-baumeister_tennis-1933',\n",
       "       'Cubism__romare-bearden_golgotha',\n",
       "       'Cubism__lyubov-popova_dramatic-architecture',\n",
       "       'Cubism__salvador-dali_head-of-a-woman',\n",
       "       'Cubism__oscar-dominguez_girl-with-a-skipping-rope-1945',\n",
       "       'Early_Renaissance__fra-angelico_sacred-conversation-1443',\n",
       "       'Early_Renaissance__paolo-uccello_scenes-of-monastic-life',\n",
       "       'Early_Renaissance__masaccio_adoration-of-the-knigs-1428',\n",
       "       'Early_Renaissance__paolo-uccello_creation-of-adam-1445',\n",
       "       'Early_Renaissance__filippo-lippi_madonna-and-child-with-st-fredianus-and-st-augustine-1438',\n",
       "       'Early_Renaissance__leonardo-da-vinci_drawings-of-water-lifting-devices',\n",
       "       'Early_Renaissance__jacopo-bellini_christ-in-the-grave',\n",
       "       'Expressionism__max-pechstein_still-life-with-mirror-clivia-fruit-and-jug-1917',\n",
       "       'Expressionism__pablo-picasso_portrait-of-olga-1920',\n",
       "       'Expressionism__ernst-ludwig-kirchner_three-women-in-a-cafe',\n",
       "       'Expressionism__amedeo-modigliani_portrait-of-beatrice-hastings-before-a-door-1915',\n",
       "       'Expressionism__vasile-kazar_unknown-title(95)',\n",
       "       'Expressionism__pablo-picasso_mallorcan-1905',\n",
       "       'Expressionism__henri-matisse_the-painter-and-his-model-1917',\n",
       "       'Fauvism__janos-mattis-teutsch_spring-1909',\n",
       "       'Fauvism__jean-metzinger_nu-nude-1906',\n",
       "       'Fauvism__alberto-magnelli_woman-on-a-balcony-1914',\n",
       "       'Fauvism__max-pechstein_unknown-title',\n",
       "       'Fauvism__ilya-mashkov_portrait-of-a-boy-in-a-coloured-shirt-1909',\n",
       "       'Fauvism__auguste-herbin_pont-sur-la-loue-moutier-1923',\n",
       "       'Fauvism__aldemir-martins_vase-with-flowers-and-fruit-2001-1',\n",
       "       'High_Renaissance__leonardo-da-vinci_a-study-for-an-equestrian-monument',\n",
       "       'High_Renaissance__michelangelo_sistine-chapel-ceiling-god-dividing-land-and-water-1512',\n",
       "       'High_Renaissance__andrea-solario_head-of-st-john-the-baptist',\n",
       "       'High_Renaissance__titian_pope-alexander-iv-presenting-jacopo-pesaro-to-st-peter',\n",
       "       'High_Renaissance__leonardo-da-vinci_equestrian-statue',\n",
       "       'High_Renaissance__raphael_putti-detail-from-the-sistine-madonna-1513',\n",
       "       'High_Renaissance__cima-da-conegliano_madonna-and-child-with-saints',\n",
       "       'Impressionism__lovis-corinth_the-violinist-1900',\n",
       "       'Impressionism__robert-julian-onderdonk_cactus-in-bloom-1915',\n",
       "       'Impressionism__antoine-blanchard_la-rue-lafayette-et-le-square-montholon',\n",
       "       'Impressionism__john-singer-sargent_the-olive-grove',\n",
       "       'Impressionism__pericles-pantazis_supreme-court-1880',\n",
       "       'Impressionism__stefan-luchian_the-laundress',\n",
       "       'Impressionism__giovanni-fattori_die-baumallee-mit-zwei-kindern-1895',\n",
       "       'Mannerism_Late_Renaissance__cristovao-de-figueiredo_menino-jesus-entre-os-doutores-1520',\n",
       "       'Mannerism_Late_Renaissance__tintoretto_the-temptation-of-st-anthony',\n",
       "       'Mannerism_Late_Renaissance__giorgio-vasari_portrait-of-nicolosa-bacci-and-the-a-noblewoman-from-arezzo',\n",
       "       'Mannerism_Late_Renaissance__paolo-veronese_honor-and-power-after-the-death-of-flourishes-1567',\n",
       "       'Mannerism_Late_Renaissance__tintoretto_assumption-of-the-virgin',\n",
       "       'Mannerism_Late_Renaissance__paolo-veronese_battle-of-lepanto',\n",
       "       'Mannerism_Late_Renaissance__paolo-veronese_holy-family-with-sts-anthony-abbot-catherine-and-the-infant-john-the-baptist-1551',\n",
       "       'Minimalism__paul-brach_corona-ii-1995',\n",
       "       'Minimalism__imi-knoebel_venera-1996',\n",
       "       'Minimalism__frederick-hammersley_again-is-a-gain-6-1971',\n",
       "       'Minimalism__perle-fine_accordment-series-17-1977',\n",
       "       'Minimalism__robert-mangold_column-painting-16-2004',\n",
       "       'Minimalism__edward-corbett_washington-d-c-1-1971',\n",
       "       'Minimalism__li-yuan-chia_12-14-43-1965',\n",
       "       'Naive_Art_Primitivism__niko-pirosmani_vintage',\n",
       "       'Naive_Art_Primitivism__marc-chagall_the-sacrifice-of-isaac-4',\n",
       "       'Naive_Art_Primitivism__fernando-botero_self-portrait-as-spanish-conquistador',\n",
       "       'Naive_Art_Primitivism__marc-chagall_a-man-with-thora-1975',\n",
       "       'Naive_Art_Primitivism__william-h.-johnson_breakdown-1941',\n",
       "       'Naive_Art_Primitivism__marc-chagall_having-lingered-in-gaza-house-of-courtesan-and-watched-by-the-people-who-wanted-to-kill-him',\n",
       "       'Naive_Art_Primitivism__henri-rousseau_old-man-junier-s-trap-1908',\n",
       "       'New_Realism__george-luks_roundhouse-at-high-bridge',\n",
       "       'New_Realism__yiannis-tsaroychis_schizophrenic-1968',\n",
       "       'New_Realism__edward-hopper_american-landscape',\n",
       "       'New_Realism__yiannis-tsaroychis_copying-titian-1971',\n",
       "       'New_Realism__edward-hopper_bistro',\n",
       "       'New_Realism__michael-bell_the-meadows-2010',\n",
       "       'New_Realism__john-french-sloan_the-haymarket-1907',\n",
       "       'Northern_Renaissance__hans-holbein-the-younger_portrait-of-a-young-man',\n",
       "       'Northern_Renaissance__lucas-cranach-the-elder_the-three-graces-1535',\n",
       "       'Northern_Renaissance__hans-memling_the-triptych-of-willem-moreel-middle-panel-saint-christopher-with-saint-maurus-of-glanfeuil-and-1484',\n",
       "       'Northern_Renaissance__hugo-van-der-goes_joseph-and-asenath',\n",
       "       'Northern_Renaissance__pieter-bruegel-the-elder_landscape-with-christ-appearing-to-the-apostles-at-the-sea-of-tiberias-1553',\n",
       "       'Northern_Renaissance__lucas-cranach-the-elder_cranach-the-garden-of-gethsemane',\n",
       "       'Northern_Renaissance__hans-baldung_lamentation-1515',\n",
       "       'Pointillism__theo-van-rysselberghe_pines-and-eucalyptus-at-cavelieri-1905',\n",
       "       'Pointillism__georges-seurat_study-for-invitation-to-the-sideshow-1888',\n",
       "       'Pointillism__georges-seurat_view-of-le-crotoy-from-upstream-1889',\n",
       "       'Pointillism__theo-van-rysselberghe_summer-landscape-of-the-moor',\n",
       "       'Pointillism__henri-edmond-cross_chaine-des-maures-1907',\n",
       "       'Pointillism__arthur-segal_weg-nach-kynwasser-riesengebirge-1908',\n",
       "       'Pointillism__henri-martin_port-collioure-2',\n",
       "       'Pop_Art__nicholas-krushenick_untitled-1998',\n",
       "       'Pop_Art__patrick-procktor_myxomatosis-self-portrait-in-a-mirror-1977',\n",
       "       'Pop_Art__hiro-yamagata_not-detected-272417',\n",
       "       'Pop_Art__marjorie-strider_pitcher-plant-1968',\n",
       "       'Pop_Art__burhan-dogancay_the-circumciser-1990',\n",
       "       'Pop_Art__richard-hamilton_chiara-chair-2004',\n",
       "       'Pop_Art__r.-b.-kitaj_apotheosis-of-groundlessness',\n",
       "       'Post_Impressionism__pierre-bonnard_landscape-of-cote-d-azur-1943',\n",
       "       'Post_Impressionism__stefan-luchian_carnations-1907',\n",
       "       'Post_Impressionism__bertalan-por_mih-ly-k-rolyi-1930',\n",
       "       'Post_Impressionism__vincent-van-gogh_three-cicadas-1889',\n",
       "       'Post_Impressionism__istvan-nagy_transylvanian-landscape-1925',\n",
       "       'Post_Impressionism__paul-gauguin_coastal-landscape-from-martinique-1887',\n",
       "       'Post_Impressionism__paul-cezanne_bridge-and-waterfall-at-pontoise-1881',\n",
       "       'Realism__william-adolphe-bouguereau_portrait-of-a-young-girl-1',\n",
       "       'Realism__isaac-levitan_autumn-the-manor-1894',\n",
       "       'Realism__boris-kustodiev_interior-the-female-figure-at-the-window-in-studio-1920',\n",
       "       'Realism__thomas-eakins_billy-smith',\n",
       "       'Realism__gustave-courbet_ta-the-loue-valley',\n",
       "       'Realism__john-lewis-krimmel_4th-of-july-1819-in-philadelphia',\n",
       "       'Realism__vasily-vereshchagin_dervishes-in-holiday-costumes-tashkent-1870',\n",
       "       'Rococo__vladimir-borovikovsky_st-alexander-nevsky',\n",
       "       'Rococo__vladimir-borovikovsky_portrait-of-torsukov-ardalyon-1795',\n",
       "       'Rococo__giovanni-battista-tiepolo_girl-with-a-mandolin',\n",
       "       'Rococo__hubert-robert_the-arc-de-triomphe-and-the-theatre-of-orange-1787',\n",
       "       'Rococo__joshua-reynolds_omai-omiah',\n",
       "       'Rococo__allan-ramsay_robert-wood',\n",
       "       'Rococo__francois-boucher_an-autumn-pastoral-1749',\n",
       "       'Romanticism__thomas-cole_self-portrait-1836',\n",
       "       'Romanticism__rudolf-von-alt_the-st-nicholas-church-in-gastein-1897',\n",
       "       'Romanticism__ivan-aivazovsky_before-battle-ship-constantinople-1872',\n",
       "       'Romanticism__gustave-moreau_the-daughters-of-thespius-1853',\n",
       "       'Romanticism__jan-matejko_augustus-iii',\n",
       "       'Romanticism__joseph-wright_arkwright-s-cotton-mills-by-night',\n",
       "       'Romanticism__thomas-cole_autumn-landscape-mount-chocorua-1828',\n",
       "       'Symbolism__mstislav-dobuzhinsky_street-in-vilno-1910(1)',\n",
       "       'Symbolism__konstantin-somov_in-the-forrest',\n",
       "       'Symbolism__martiros-saryan_apricot-tree-in-blossom-1942-1',\n",
       "       'Symbolism__kuzma-petrov-vodkin_youth-kiss-1913',\n",
       "       'Symbolism__kuzma-petrov-vodkin_the-model-1907',\n",
       "       'Symbolism__mikalojus-ciurlionis_creation-of-the-world-vi-1906',\n",
       "       'Symbolism__kazimir-malevich_oak-and-dryads-1908',\n",
       "       'Synthetic_Cubism__pablo-picasso_glass-and-newspaper-1914',\n",
       "       'Synthetic_Cubism__georges-braque_newspaper-bottle-packet-of-tobacco-1914',\n",
       "       'Synthetic_Cubism__pablo-picasso_bottle-of-vieux-marc-glass-and-newspaper-1913',\n",
       "       'Synthetic_Cubism__juan-gris_still-life-before-an-open-window-place-ravignan-1915',\n",
       "       'Synthetic_Cubism__georges-braque_still-life-with-glass-carafe-and-phillips-ace-1919',\n",
       "       'Synthetic_Cubism__juan-gris_newspaper-and-fruit-dish-1916',\n",
       "       'Synthetic_Cubism__juan-gris_harlequin-at-a-table-1919',\n",
       "       'Ukiyo_e__hiroshige_whirlpools-on-a-rocky-coast',\n",
       "       'Ukiyo_e__katsushika-hokusai_drawing-of-man-resting-on-axe-and-carrying-part-of-tree-trunk-on-his-back',\n",
       "       'Ukiyo_e__tsukioka-yoshitoshi_the-seven-lucky-gods',\n",
       "       'Ukiyo_e__keisai-eisen_pipe-smokers-1835(1)',\n",
       "       'Ukiyo_e__katsushika-hokusai_shimomeguro',\n",
       "       'Ukiyo_e__tsukioka-yoshitoshi_not_detected_242422',\n",
       "       'Ukiyo_e__utagawa-kuniyoshi_oki-no-jiro-hiroari-killing-a-monstrous-tengu'],\n",
       "      dtype=object)"
      ]
     },
     "execution_count": 80,
     "metadata": {},
     "output_type": "execute_result"
    }
   ],
   "source": [
    "df_test['imgId'].values"
   ]
  },
  {
   "cell_type": "code",
   "execution_count": null,
   "metadata": {},
   "outputs": [],
   "source": []
  },
  {
   "cell_type": "code",
   "execution_count": 81,
   "metadata": {
    "scrolled": true
   },
   "outputs": [
    {
     "data": {
      "text/html": [
       "<div>\n",
       "<style scoped>\n",
       "    .dataframe tbody tr th:only-of-type {\n",
       "        vertical-align: middle;\n",
       "    }\n",
       "\n",
       "    .dataframe tbody tr th {\n",
       "        vertical-align: top;\n",
       "    }\n",
       "\n",
       "    .dataframe thead th {\n",
       "        text-align: right;\n",
       "    }\n",
       "</style>\n",
       "<table border=\"1\" class=\"dataframe\">\n",
       "  <thead>\n",
       "    <tr style=\"text-align: right;\">\n",
       "      <th></th>\n",
       "      <th>imgId</th>\n",
       "      <th>style</th>\n",
       "      <th>author</th>\n",
       "      <th>class</th>\n",
       "    </tr>\n",
       "  </thead>\n",
       "  <tbody>\n",
       "    <tr>\n",
       "      <th>0</th>\n",
       "      <td>Baroque__jacob-jordaens_the-mission-of-st-pete...</td>\n",
       "      <td>Baroque</td>\n",
       "      <td>Jacob Jordaens</td>\n",
       "      <td>Baroque__jacob-jordaens</td>\n",
       "    </tr>\n",
       "    <tr>\n",
       "      <th>1</th>\n",
       "      <td>Baroque__jacob-jordaens_study-of-the-head-of-a...</td>\n",
       "      <td>Baroque</td>\n",
       "      <td>Jacob Jordaens</td>\n",
       "      <td>Baroque__jacob-jordaens</td>\n",
       "    </tr>\n",
       "    <tr>\n",
       "      <th>2</th>\n",
       "      <td>Baroque__bartolome-esteban-murillo_st-isidore-...</td>\n",
       "      <td>Baroque</td>\n",
       "      <td>Bartolome Esteban Murillo</td>\n",
       "      <td>Baroque__bartolome-esteban-murillo</td>\n",
       "    </tr>\n",
       "    <tr>\n",
       "      <th>3</th>\n",
       "      <td>Baroque__frans-snyders_a-fruit-stall-1</td>\n",
       "      <td>Baroque</td>\n",
       "      <td>Frans Snyders</td>\n",
       "      <td>Baroque__frans-snyders</td>\n",
       "    </tr>\n",
       "    <tr>\n",
       "      <th>4</th>\n",
       "      <td>Baroque__david-teniers-the-younger_a-smoker-le...</td>\n",
       "      <td>Baroque</td>\n",
       "      <td>David Teniers The Younger</td>\n",
       "      <td>Baroque__david-teniers-the-younger</td>\n",
       "    </tr>\n",
       "    <tr>\n",
       "      <th>...</th>\n",
       "      <td>...</td>\n",
       "      <td>...</td>\n",
       "      <td>...</td>\n",
       "      <td>...</td>\n",
       "    </tr>\n",
       "    <tr>\n",
       "      <th>69331</th>\n",
       "      <td>Baroque__alonzo-cano_noli-me-tangere</td>\n",
       "      <td>Baroque</td>\n",
       "      <td>Alonzo Cano</td>\n",
       "      <td>Baroque__alonzo-cano</td>\n",
       "    </tr>\n",
       "    <tr>\n",
       "      <th>69332</th>\n",
       "      <td>Color_Field_Painting__frank-stella_sinjerli-va...</td>\n",
       "      <td>Color_Field_Painting</td>\n",
       "      <td>Frank Stella</td>\n",
       "      <td>Color_Field_Painting__frank-stella</td>\n",
       "    </tr>\n",
       "    <tr>\n",
       "      <th>69333</th>\n",
       "      <td>Realism__camille-corot_the-bay-of-somme</td>\n",
       "      <td>Realism</td>\n",
       "      <td>Camille Corot</td>\n",
       "      <td>Realism__camille-corot</td>\n",
       "    </tr>\n",
       "    <tr>\n",
       "      <th>69334</th>\n",
       "      <td>Early_Renaissance__masaccio_portrait-of-a-youn...</td>\n",
       "      <td>Early_Renaissance</td>\n",
       "      <td>Masaccio</td>\n",
       "      <td>Early_Renaissance__masaccio</td>\n",
       "    </tr>\n",
       "    <tr>\n",
       "      <th>69335</th>\n",
       "      <td>Synthetic_Cubism__juan-gris_bottle-of-beaune-a...</td>\n",
       "      <td>Synthetic_Cubism</td>\n",
       "      <td>Juan Gris</td>\n",
       "      <td>Synthetic_Cubism__juan-gris</td>\n",
       "    </tr>\n",
       "  </tbody>\n",
       "</table>\n",
       "<p>69336 rows × 4 columns</p>\n",
       "</div>"
      ],
      "text/plain": [
       "                                                   imgId  \\\n",
       "0      Baroque__jacob-jordaens_the-mission-of-st-pete...   \n",
       "1      Baroque__jacob-jordaens_study-of-the-head-of-a...   \n",
       "2      Baroque__bartolome-esteban-murillo_st-isidore-...   \n",
       "3                 Baroque__frans-snyders_a-fruit-stall-1   \n",
       "4      Baroque__david-teniers-the-younger_a-smoker-le...   \n",
       "...                                                  ...   \n",
       "69331               Baroque__alonzo-cano_noli-me-tangere   \n",
       "69332  Color_Field_Painting__frank-stella_sinjerli-va...   \n",
       "69333            Realism__camille-corot_the-bay-of-somme   \n",
       "69334  Early_Renaissance__masaccio_portrait-of-a-youn...   \n",
       "69335  Synthetic_Cubism__juan-gris_bottle-of-beaune-a...   \n",
       "\n",
       "                      style                     author  \\\n",
       "0                   Baroque             Jacob Jordaens   \n",
       "1                   Baroque             Jacob Jordaens   \n",
       "2                   Baroque  Bartolome Esteban Murillo   \n",
       "3                   Baroque              Frans Snyders   \n",
       "4                   Baroque  David Teniers The Younger   \n",
       "...                     ...                        ...   \n",
       "69331               Baroque                Alonzo Cano   \n",
       "69332  Color_Field_Painting               Frank Stella   \n",
       "69333               Realism              Camille Corot   \n",
       "69334     Early_Renaissance                   Masaccio   \n",
       "69335      Synthetic_Cubism                  Juan Gris   \n",
       "\n",
       "                                    class  \n",
       "0                 Baroque__jacob-jordaens  \n",
       "1                 Baroque__jacob-jordaens  \n",
       "2      Baroque__bartolome-esteban-murillo  \n",
       "3                  Baroque__frans-snyders  \n",
       "4      Baroque__david-teniers-the-younger  \n",
       "...                                   ...  \n",
       "69331                Baroque__alonzo-cano  \n",
       "69332  Color_Field_Painting__frank-stella  \n",
       "69333              Realism__camille-corot  \n",
       "69334         Early_Renaissance__masaccio  \n",
       "69335         Synthetic_Cubism__juan-gris  \n",
       "\n",
       "[69336 rows x 4 columns]"
      ]
     },
     "execution_count": 81,
     "metadata": {},
     "output_type": "execute_result"
    }
   ],
   "source": [
    "df_index"
   ]
  },
  {
   "cell_type": "code",
   "execution_count": null,
   "metadata": {},
   "outputs": [],
   "source": []
  },
  {
   "cell_type": "code",
   "execution_count": 89,
   "metadata": {},
   "outputs": [],
   "source": [
    "df_test[~df_test.age.isna()].to_csv(os.path.join(PATH_CSV_DIR, 'test_age_art.csv'),\n",
    "                                    sep=';', index=False)"
   ]
  },
  {
   "cell_type": "code",
   "execution_count": 93,
   "metadata": {},
   "outputs": [],
   "source": [
    "df_test_age = pd.read_csv(os.path.join(PATH_CSV_DIR, 'test_age_art.csv'),\n",
    "                         sep=';')"
   ]
  }
 ],
 "metadata": {
  "kernelspec": {
   "display_name": "Python 3",
   "language": "python",
   "name": "python3"
  },
  "language_info": {
   "codemirror_mode": {
    "name": "ipython",
    "version": 3
   },
   "file_extension": ".py",
   "mimetype": "text/x-python",
   "name": "python",
   "nbconvert_exporter": "python",
   "pygments_lexer": "ipython3",
   "version": "3.8.3"
  }
 },
 "nbformat": 4,
 "nbformat_minor": 4
}
