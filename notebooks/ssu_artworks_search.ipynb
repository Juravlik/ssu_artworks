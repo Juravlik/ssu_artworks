{
 "cells": [
  {
   "cell_type": "code",
   "execution_count": 11,
   "metadata": {},
   "outputs": [],
   "source": [
    "import pandas as pd\n",
    "import numpy as np\n",
    "import os\n",
    "import random\n",
    "import seaborn as sns\n",
    "import matplotlib.pyplot as plt"
   ]
  },
  {
   "cell_type": "markdown",
   "metadata": {},
   "source": [
    "## Concat all csv"
   ]
  },
  {
   "cell_type": "code",
   "execution_count": 12,
   "metadata": {},
   "outputs": [],
   "source": [
    "PATH_CSV_DIR = '/home/juravlik/PycharmProjects/ssu_artworks/static/data/csv/'"
   ]
  },
  {
   "cell_type": "code",
   "execution_count": 13,
   "metadata": {},
   "outputs": [],
   "source": [
    "csvs_list = [x for x in os.listdir(PATH_CSV_DIR) if x[0].isupper()]"
   ]
  },
  {
   "cell_type": "code",
   "execution_count": 14,
   "metadata": {},
   "outputs": [],
   "source": [
    "for i, csv in enumerate(csvs_list):\n",
    "    \n",
    "    csv_path = os.path.join(PATH_CSV_DIR, csv)\n",
    "    \n",
    "    df = pd.read_csv(csv_path,\n",
    "                    sep=';')\n",
    "    \n",
    "    if i == 0:\n",
    "        df_all = df\n",
    "    \n",
    "    else:\n",
    "        df_all = pd.concat([df_all, df])"
   ]
  },
  {
   "cell_type": "code",
   "execution_count": 15,
   "metadata": {},
   "outputs": [],
   "source": [
    "df_all.rename(columns={'imgId': 'filename'}, inplace=True)"
   ]
  },
  {
   "cell_type": "code",
   "execution_count": 16,
   "metadata": {},
   "outputs": [
    {
     "data": {
      "text/html": [
       "<div>\n",
       "<style scoped>\n",
       "    .dataframe tbody tr th:only-of-type {\n",
       "        vertical-align: middle;\n",
       "    }\n",
       "\n",
       "    .dataframe tbody tr th {\n",
       "        vertical-align: top;\n",
       "    }\n",
       "\n",
       "    .dataframe thead th {\n",
       "        text-align: right;\n",
       "    }\n",
       "</style>\n",
       "<table border=\"1\" class=\"dataframe\">\n",
       "  <thead>\n",
       "    <tr style=\"text-align: right;\">\n",
       "      <th></th>\n",
       "      <th>filename</th>\n",
       "      <th>style</th>\n",
       "    </tr>\n",
       "  </thead>\n",
       "  <tbody>\n",
       "    <tr>\n",
       "      <th>0</th>\n",
       "      <td>jacob-jordaens_the-mission-of-st-peter-1617</td>\n",
       "      <td>Baroque</td>\n",
       "    </tr>\n",
       "    <tr>\n",
       "      <th>1</th>\n",
       "      <td>jacob-jordaens_study-of-the-head-of-abraham-gr...</td>\n",
       "      <td>Baroque</td>\n",
       "    </tr>\n",
       "    <tr>\n",
       "      <th>2</th>\n",
       "      <td>rembrandt_a-young-woman-at-her-toilet-1633</td>\n",
       "      <td>Baroque</td>\n",
       "    </tr>\n",
       "    <tr>\n",
       "      <th>3</th>\n",
       "      <td>bartolome-esteban-murillo_st-isidore-of-sevill...</td>\n",
       "      <td>Baroque</td>\n",
       "    </tr>\n",
       "    <tr>\n",
       "      <th>4</th>\n",
       "      <td>frans-snyders_a-fruit-stall-1</td>\n",
       "      <td>Baroque</td>\n",
       "    </tr>\n",
       "    <tr>\n",
       "      <th>...</th>\n",
       "      <td>...</td>\n",
       "      <td>...</td>\n",
       "    </tr>\n",
       "    <tr>\n",
       "      <th>1338</th>\n",
       "      <td>raphael_the-miraculous-draught-of-fishes-carto...</td>\n",
       "      <td>High_Renaissance</td>\n",
       "    </tr>\n",
       "    <tr>\n",
       "      <th>1339</th>\n",
       "      <td>raphael_school-of-athens-detail-from-right-han...</td>\n",
       "      <td>High_Renaissance</td>\n",
       "    </tr>\n",
       "    <tr>\n",
       "      <th>1340</th>\n",
       "      <td>titian_vanitas-1515</td>\n",
       "      <td>High_Renaissance</td>\n",
       "    </tr>\n",
       "    <tr>\n",
       "      <th>1341</th>\n",
       "      <td>andrea-mantegna_minerva-chasing-the-vices-from...</td>\n",
       "      <td>High_Renaissance</td>\n",
       "    </tr>\n",
       "    <tr>\n",
       "      <th>1342</th>\n",
       "      <td>michelangelo_martyrdom-of-st-peter</td>\n",
       "      <td>High_Renaissance</td>\n",
       "    </tr>\n",
       "  </tbody>\n",
       "</table>\n",
       "<p>81446 rows × 2 columns</p>\n",
       "</div>"
      ],
      "text/plain": [
       "                                               filename             style\n",
       "0           jacob-jordaens_the-mission-of-st-peter-1617           Baroque\n",
       "1     jacob-jordaens_study-of-the-head-of-abraham-gr...           Baroque\n",
       "2            rembrandt_a-young-woman-at-her-toilet-1633           Baroque\n",
       "3     bartolome-esteban-murillo_st-isidore-of-sevill...           Baroque\n",
       "4                         frans-snyders_a-fruit-stall-1           Baroque\n",
       "...                                                 ...               ...\n",
       "1338  raphael_the-miraculous-draught-of-fishes-carto...  High_Renaissance\n",
       "1339  raphael_school-of-athens-detail-from-right-han...  High_Renaissance\n",
       "1340                                titian_vanitas-1515  High_Renaissance\n",
       "1341  andrea-mantegna_minerva-chasing-the-vices-from...  High_Renaissance\n",
       "1342                 michelangelo_martyrdom-of-st-peter  High_Renaissance\n",
       "\n",
       "[81446 rows x 2 columns]"
      ]
     },
     "execution_count": 16,
     "metadata": {},
     "output_type": "execute_result"
    }
   ],
   "source": [
    "df_all"
   ]
  },
  {
   "cell_type": "code",
   "execution_count": null,
   "metadata": {},
   "outputs": [],
   "source": []
  },
  {
   "cell_type": "code",
   "execution_count": 17,
   "metadata": {},
   "outputs": [],
   "source": [
    "df_all['imgId'] = df_all['style'] + '__' + df_all['filename']"
   ]
  },
  {
   "cell_type": "code",
   "execution_count": 18,
   "metadata": {},
   "outputs": [
    {
     "data": {
      "text/html": [
       "<div>\n",
       "<style scoped>\n",
       "    .dataframe tbody tr th:only-of-type {\n",
       "        vertical-align: middle;\n",
       "    }\n",
       "\n",
       "    .dataframe tbody tr th {\n",
       "        vertical-align: top;\n",
       "    }\n",
       "\n",
       "    .dataframe thead th {\n",
       "        text-align: right;\n",
       "    }\n",
       "</style>\n",
       "<table border=\"1\" class=\"dataframe\">\n",
       "  <thead>\n",
       "    <tr style=\"text-align: right;\">\n",
       "      <th></th>\n",
       "      <th>filename</th>\n",
       "      <th>style</th>\n",
       "      <th>imgId</th>\n",
       "    </tr>\n",
       "  </thead>\n",
       "  <tbody>\n",
       "    <tr>\n",
       "      <th>0</th>\n",
       "      <td>jacob-jordaens_the-mission-of-st-peter-1617</td>\n",
       "      <td>Baroque</td>\n",
       "      <td>Baroque__jacob-jordaens_the-mission-of-st-pete...</td>\n",
       "    </tr>\n",
       "    <tr>\n",
       "      <th>1</th>\n",
       "      <td>jacob-jordaens_study-of-the-head-of-abraham-gr...</td>\n",
       "      <td>Baroque</td>\n",
       "      <td>Baroque__jacob-jordaens_study-of-the-head-of-a...</td>\n",
       "    </tr>\n",
       "    <tr>\n",
       "      <th>2</th>\n",
       "      <td>rembrandt_a-young-woman-at-her-toilet-1633</td>\n",
       "      <td>Baroque</td>\n",
       "      <td>Baroque__rembrandt_a-young-woman-at-her-toilet...</td>\n",
       "    </tr>\n",
       "    <tr>\n",
       "      <th>3</th>\n",
       "      <td>bartolome-esteban-murillo_st-isidore-of-sevill...</td>\n",
       "      <td>Baroque</td>\n",
       "      <td>Baroque__bartolome-esteban-murillo_st-isidore-...</td>\n",
       "    </tr>\n",
       "    <tr>\n",
       "      <th>4</th>\n",
       "      <td>frans-snyders_a-fruit-stall-1</td>\n",
       "      <td>Baroque</td>\n",
       "      <td>Baroque__frans-snyders_a-fruit-stall-1</td>\n",
       "    </tr>\n",
       "    <tr>\n",
       "      <th>...</th>\n",
       "      <td>...</td>\n",
       "      <td>...</td>\n",
       "      <td>...</td>\n",
       "    </tr>\n",
       "    <tr>\n",
       "      <th>1338</th>\n",
       "      <td>raphael_the-miraculous-draught-of-fishes-carto...</td>\n",
       "      <td>High_Renaissance</td>\n",
       "      <td>High_Renaissance__raphael_the-miraculous-draug...</td>\n",
       "    </tr>\n",
       "    <tr>\n",
       "      <th>1339</th>\n",
       "      <td>raphael_school-of-athens-detail-from-right-han...</td>\n",
       "      <td>High_Renaissance</td>\n",
       "      <td>High_Renaissance__raphael_school-of-athens-det...</td>\n",
       "    </tr>\n",
       "    <tr>\n",
       "      <th>1340</th>\n",
       "      <td>titian_vanitas-1515</td>\n",
       "      <td>High_Renaissance</td>\n",
       "      <td>High_Renaissance__titian_vanitas-1515</td>\n",
       "    </tr>\n",
       "    <tr>\n",
       "      <th>1341</th>\n",
       "      <td>andrea-mantegna_minerva-chasing-the-vices-from...</td>\n",
       "      <td>High_Renaissance</td>\n",
       "      <td>High_Renaissance__andrea-mantegna_minerva-chas...</td>\n",
       "    </tr>\n",
       "    <tr>\n",
       "      <th>1342</th>\n",
       "      <td>michelangelo_martyrdom-of-st-peter</td>\n",
       "      <td>High_Renaissance</td>\n",
       "      <td>High_Renaissance__michelangelo_martyrdom-of-st...</td>\n",
       "    </tr>\n",
       "  </tbody>\n",
       "</table>\n",
       "<p>81446 rows × 3 columns</p>\n",
       "</div>"
      ],
      "text/plain": [
       "                                               filename             style  \\\n",
       "0           jacob-jordaens_the-mission-of-st-peter-1617           Baroque   \n",
       "1     jacob-jordaens_study-of-the-head-of-abraham-gr...           Baroque   \n",
       "2            rembrandt_a-young-woman-at-her-toilet-1633           Baroque   \n",
       "3     bartolome-esteban-murillo_st-isidore-of-sevill...           Baroque   \n",
       "4                         frans-snyders_a-fruit-stall-1           Baroque   \n",
       "...                                                 ...               ...   \n",
       "1338  raphael_the-miraculous-draught-of-fishes-carto...  High_Renaissance   \n",
       "1339  raphael_school-of-athens-detail-from-right-han...  High_Renaissance   \n",
       "1340                                titian_vanitas-1515  High_Renaissance   \n",
       "1341  andrea-mantegna_minerva-chasing-the-vices-from...  High_Renaissance   \n",
       "1342                 michelangelo_martyrdom-of-st-peter  High_Renaissance   \n",
       "\n",
       "                                                  imgId  \n",
       "0     Baroque__jacob-jordaens_the-mission-of-st-pete...  \n",
       "1     Baroque__jacob-jordaens_study-of-the-head-of-a...  \n",
       "2     Baroque__rembrandt_a-young-woman-at-her-toilet...  \n",
       "3     Baroque__bartolome-esteban-murillo_st-isidore-...  \n",
       "4                Baroque__frans-snyders_a-fruit-stall-1  \n",
       "...                                                 ...  \n",
       "1338  High_Renaissance__raphael_the-miraculous-draug...  \n",
       "1339  High_Renaissance__raphael_school-of-athens-det...  \n",
       "1340              High_Renaissance__titian_vanitas-1515  \n",
       "1341  High_Renaissance__andrea-mantegna_minerva-chas...  \n",
       "1342  High_Renaissance__michelangelo_martyrdom-of-st...  \n",
       "\n",
       "[81446 rows x 3 columns]"
      ]
     },
     "execution_count": 18,
     "metadata": {},
     "output_type": "execute_result"
    }
   ],
   "source": [
    "df_all"
   ]
  },
  {
   "cell_type": "code",
   "execution_count": null,
   "metadata": {},
   "outputs": [],
   "source": []
  },
  {
   "cell_type": "code",
   "execution_count": 19,
   "metadata": {},
   "outputs": [],
   "source": [
    "df_all['author'] = df_all.imgId.apply(lambda x: x.split('__')[-1].split('_')[0])"
   ]
  },
  {
   "cell_type": "code",
   "execution_count": null,
   "metadata": {},
   "outputs": [],
   "source": []
  },
  {
   "cell_type": "code",
   "execution_count": 20,
   "metadata": {},
   "outputs": [
    {
     "data": {
      "text/plain": [
       "1119"
      ]
     },
     "execution_count": 20,
     "metadata": {},
     "output_type": "execute_result"
    }
   ],
   "source": [
    "df_all['author'].nunique()"
   ]
  },
  {
   "cell_type": "code",
   "execution_count": 21,
   "metadata": {},
   "outputs": [
    {
     "data": {
      "text/plain": [
       "count    1119.000000\n",
       "mean        1.883825\n",
       "std         1.274105\n",
       "min         1.000000\n",
       "25%         1.000000\n",
       "50%         1.000000\n",
       "75%         2.000000\n",
       "max        11.000000\n",
       "Name: style, dtype: float64"
      ]
     },
     "execution_count": 21,
     "metadata": {},
     "output_type": "execute_result"
    }
   ],
   "source": [
    "df_all.groupby(['author']).style.nunique().describe()"
   ]
  },
  {
   "cell_type": "code",
   "execution_count": null,
   "metadata": {},
   "outputs": [],
   "source": []
  },
  {
   "cell_type": "code",
   "execution_count": 22,
   "metadata": {},
   "outputs": [],
   "source": [
    "df_all['class'] = df_all['style'] + '__' + df_all['author']"
   ]
  },
  {
   "cell_type": "code",
   "execution_count": null,
   "metadata": {},
   "outputs": [],
   "source": []
  },
  {
   "cell_type": "code",
   "execution_count": 23,
   "metadata": {},
   "outputs": [
    {
     "data": {
      "text/html": [
       "<div>\n",
       "<style scoped>\n",
       "    .dataframe tbody tr th:only-of-type {\n",
       "        vertical-align: middle;\n",
       "    }\n",
       "\n",
       "    .dataframe tbody tr th {\n",
       "        vertical-align: top;\n",
       "    }\n",
       "\n",
       "    .dataframe thead th {\n",
       "        text-align: right;\n",
       "    }\n",
       "</style>\n",
       "<table border=\"1\" class=\"dataframe\">\n",
       "  <thead>\n",
       "    <tr style=\"text-align: right;\">\n",
       "      <th></th>\n",
       "      <th>filename</th>\n",
       "      <th>style</th>\n",
       "      <th>imgId</th>\n",
       "      <th>author</th>\n",
       "      <th>class</th>\n",
       "    </tr>\n",
       "  </thead>\n",
       "  <tbody>\n",
       "    <tr>\n",
       "      <th>0</th>\n",
       "      <td>jacob-jordaens_the-mission-of-st-peter-1617</td>\n",
       "      <td>Baroque</td>\n",
       "      <td>Baroque__jacob-jordaens_the-mission-of-st-pete...</td>\n",
       "      <td>jacob-jordaens</td>\n",
       "      <td>Baroque__jacob-jordaens</td>\n",
       "    </tr>\n",
       "    <tr>\n",
       "      <th>1</th>\n",
       "      <td>jacob-jordaens_study-of-the-head-of-abraham-gr...</td>\n",
       "      <td>Baroque</td>\n",
       "      <td>Baroque__jacob-jordaens_study-of-the-head-of-a...</td>\n",
       "      <td>jacob-jordaens</td>\n",
       "      <td>Baroque__jacob-jordaens</td>\n",
       "    </tr>\n",
       "    <tr>\n",
       "      <th>2</th>\n",
       "      <td>rembrandt_a-young-woman-at-her-toilet-1633</td>\n",
       "      <td>Baroque</td>\n",
       "      <td>Baroque__rembrandt_a-young-woman-at-her-toilet...</td>\n",
       "      <td>rembrandt</td>\n",
       "      <td>Baroque__rembrandt</td>\n",
       "    </tr>\n",
       "    <tr>\n",
       "      <th>3</th>\n",
       "      <td>bartolome-esteban-murillo_st-isidore-of-sevill...</td>\n",
       "      <td>Baroque</td>\n",
       "      <td>Baroque__bartolome-esteban-murillo_st-isidore-...</td>\n",
       "      <td>bartolome-esteban-murillo</td>\n",
       "      <td>Baroque__bartolome-esteban-murillo</td>\n",
       "    </tr>\n",
       "    <tr>\n",
       "      <th>4</th>\n",
       "      <td>frans-snyders_a-fruit-stall-1</td>\n",
       "      <td>Baroque</td>\n",
       "      <td>Baroque__frans-snyders_a-fruit-stall-1</td>\n",
       "      <td>frans-snyders</td>\n",
       "      <td>Baroque__frans-snyders</td>\n",
       "    </tr>\n",
       "    <tr>\n",
       "      <th>...</th>\n",
       "      <td>...</td>\n",
       "      <td>...</td>\n",
       "      <td>...</td>\n",
       "      <td>...</td>\n",
       "      <td>...</td>\n",
       "    </tr>\n",
       "    <tr>\n",
       "      <th>1338</th>\n",
       "      <td>raphael_the-miraculous-draught-of-fishes-carto...</td>\n",
       "      <td>High_Renaissance</td>\n",
       "      <td>High_Renaissance__raphael_the-miraculous-draug...</td>\n",
       "      <td>raphael</td>\n",
       "      <td>High_Renaissance__raphael</td>\n",
       "    </tr>\n",
       "    <tr>\n",
       "      <th>1339</th>\n",
       "      <td>raphael_school-of-athens-detail-from-right-han...</td>\n",
       "      <td>High_Renaissance</td>\n",
       "      <td>High_Renaissance__raphael_school-of-athens-det...</td>\n",
       "      <td>raphael</td>\n",
       "      <td>High_Renaissance__raphael</td>\n",
       "    </tr>\n",
       "    <tr>\n",
       "      <th>1340</th>\n",
       "      <td>titian_vanitas-1515</td>\n",
       "      <td>High_Renaissance</td>\n",
       "      <td>High_Renaissance__titian_vanitas-1515</td>\n",
       "      <td>titian</td>\n",
       "      <td>High_Renaissance__titian</td>\n",
       "    </tr>\n",
       "    <tr>\n",
       "      <th>1341</th>\n",
       "      <td>andrea-mantegna_minerva-chasing-the-vices-from...</td>\n",
       "      <td>High_Renaissance</td>\n",
       "      <td>High_Renaissance__andrea-mantegna_minerva-chas...</td>\n",
       "      <td>andrea-mantegna</td>\n",
       "      <td>High_Renaissance__andrea-mantegna</td>\n",
       "    </tr>\n",
       "    <tr>\n",
       "      <th>1342</th>\n",
       "      <td>michelangelo_martyrdom-of-st-peter</td>\n",
       "      <td>High_Renaissance</td>\n",
       "      <td>High_Renaissance__michelangelo_martyrdom-of-st...</td>\n",
       "      <td>michelangelo</td>\n",
       "      <td>High_Renaissance__michelangelo</td>\n",
       "    </tr>\n",
       "  </tbody>\n",
       "</table>\n",
       "<p>81446 rows × 5 columns</p>\n",
       "</div>"
      ],
      "text/plain": [
       "                                               filename             style  \\\n",
       "0           jacob-jordaens_the-mission-of-st-peter-1617           Baroque   \n",
       "1     jacob-jordaens_study-of-the-head-of-abraham-gr...           Baroque   \n",
       "2            rembrandt_a-young-woman-at-her-toilet-1633           Baroque   \n",
       "3     bartolome-esteban-murillo_st-isidore-of-sevill...           Baroque   \n",
       "4                         frans-snyders_a-fruit-stall-1           Baroque   \n",
       "...                                                 ...               ...   \n",
       "1338  raphael_the-miraculous-draught-of-fishes-carto...  High_Renaissance   \n",
       "1339  raphael_school-of-athens-detail-from-right-han...  High_Renaissance   \n",
       "1340                                titian_vanitas-1515  High_Renaissance   \n",
       "1341  andrea-mantegna_minerva-chasing-the-vices-from...  High_Renaissance   \n",
       "1342                 michelangelo_martyrdom-of-st-peter  High_Renaissance   \n",
       "\n",
       "                                                  imgId  \\\n",
       "0     Baroque__jacob-jordaens_the-mission-of-st-pete...   \n",
       "1     Baroque__jacob-jordaens_study-of-the-head-of-a...   \n",
       "2     Baroque__rembrandt_a-young-woman-at-her-toilet...   \n",
       "3     Baroque__bartolome-esteban-murillo_st-isidore-...   \n",
       "4                Baroque__frans-snyders_a-fruit-stall-1   \n",
       "...                                                 ...   \n",
       "1338  High_Renaissance__raphael_the-miraculous-draug...   \n",
       "1339  High_Renaissance__raphael_school-of-athens-det...   \n",
       "1340              High_Renaissance__titian_vanitas-1515   \n",
       "1341  High_Renaissance__andrea-mantegna_minerva-chas...   \n",
       "1342  High_Renaissance__michelangelo_martyrdom-of-st...   \n",
       "\n",
       "                         author                               class  \n",
       "0                jacob-jordaens             Baroque__jacob-jordaens  \n",
       "1                jacob-jordaens             Baroque__jacob-jordaens  \n",
       "2                     rembrandt                  Baroque__rembrandt  \n",
       "3     bartolome-esteban-murillo  Baroque__bartolome-esteban-murillo  \n",
       "4                 frans-snyders              Baroque__frans-snyders  \n",
       "...                         ...                                 ...  \n",
       "1338                    raphael           High_Renaissance__raphael  \n",
       "1339                    raphael           High_Renaissance__raphael  \n",
       "1340                     titian            High_Renaissance__titian  \n",
       "1341            andrea-mantegna   High_Renaissance__andrea-mantegna  \n",
       "1342               michelangelo      High_Renaissance__michelangelo  \n",
       "\n",
       "[81446 rows x 5 columns]"
      ]
     },
     "execution_count": 23,
     "metadata": {},
     "output_type": "execute_result"
    }
   ],
   "source": [
    "df_all"
   ]
  },
  {
   "cell_type": "code",
   "execution_count": 24,
   "metadata": {},
   "outputs": [],
   "source": [
    "columns_list = ['imgId', 'style', 'author', 'class']"
   ]
  },
  {
   "cell_type": "markdown",
   "metadata": {},
   "source": [
    "## Drop some data"
   ]
  },
  {
   "cell_type": "code",
   "execution_count": 25,
   "metadata": {},
   "outputs": [
    {
     "data": {
      "text/plain": [
       "81446"
      ]
     },
     "execution_count": 25,
     "metadata": {},
     "output_type": "execute_result"
    }
   ],
   "source": [
    "df_all.shape[0]"
   ]
  },
  {
   "cell_type": "code",
   "execution_count": null,
   "metadata": {},
   "outputs": [],
   "source": []
  },
  {
   "cell_type": "code",
   "execution_count": 26,
   "metadata": {},
   "outputs": [
    {
     "data": {
      "text/plain": [
       "Impressionism                 13060\n",
       "Realism                       10733\n",
       "Romanticism                    7019\n",
       "Expressionism                  6736\n",
       "Post_Impressionism             6451\n",
       "Symbolism                      4528\n",
       "Art_Nouveau_Modern             4334\n",
       "Baroque                        4241\n",
       "Abstract_Expressionism         2782\n",
       "Northern_Renaissance           2552\n",
       "Naive_Art_Primitivism          2405\n",
       "Cubism                         2235\n",
       "Rococo                         2089\n",
       "Color_Field_Painting           1615\n",
       "Pop_Art                        1483\n",
       "Early_Renaissance              1391\n",
       "High_Renaissance               1343\n",
       "Minimalism                     1337\n",
       "Mannerism_Late_Renaissance     1279\n",
       "Ukiyo_e                        1167\n",
       "Fauvism                         934\n",
       "Pointillism                     513\n",
       "Contemporary_Realism            481\n",
       "New_Realism                     314\n",
       "Synthetic_Cubism                216\n",
       "Analytical_Cubism               110\n",
       "Action_painting                  98\n",
       "Name: style, dtype: int64"
      ]
     },
     "execution_count": 26,
     "metadata": {},
     "output_type": "execute_result"
    }
   ],
   "source": [
    "df_all['style'].value_counts()"
   ]
  },
  {
   "cell_type": "code",
   "execution_count": 27,
   "metadata": {},
   "outputs": [
    {
     "data": {
      "text/plain": [
       "2108"
      ]
     },
     "execution_count": 27,
     "metadata": {},
     "output_type": "execute_result"
    }
   ],
   "source": [
    "df_all['class'].nunique()"
   ]
  },
  {
   "cell_type": "code",
   "execution_count": null,
   "metadata": {},
   "outputs": [],
   "source": []
  },
  {
   "cell_type": "code",
   "execution_count": 28,
   "metadata": {
    "scrolled": false
   },
   "outputs": [
    {
     "data": {
      "image/png": "[encoded data removed]",
      "text/plain": [
       "<Figure size 432x720 with 1 Axes>"
      ]
     },
     "metadata": {},
     "output_type": "display_data"
    }
   ],
   "source": [
    "sns.set(font_scale=1.3)\n",
    "plt.figure(figsize=(6, 10))\n",
    "sns.barplot(x='style', y='index', data=df_all['style'].value_counts().reset_index())\n",
    "\n",
    "plt.xticks(rotation=45)\n",
    "plt.xlabel('Количество картин', fontsize=17);\n",
    "plt.ylabel('Стиль', fontsize=17);\n",
    "plt.title('', fontsize=17)\n",
    "plt.show()"
   ]
  },
  {
   "cell_type": "code",
   "execution_count": 29,
   "metadata": {},
   "outputs": [
    {
     "data": {
      "text/plain": [
       "1119"
      ]
     },
     "execution_count": 29,
     "metadata": {},
     "output_type": "execute_result"
    }
   ],
   "source": [
    "df_all.author.nunique()"
   ]
  },
  {
   "cell_type": "code",
   "execution_count": 30,
   "metadata": {},
   "outputs": [
    {
     "data": {
      "text/plain": [
       "27"
      ]
     },
     "execution_count": 30,
     "metadata": {},
     "output_type": "execute_result"
    }
   ],
   "source": [
    "df_all['style'].nunique()"
   ]
  },
  {
   "cell_type": "code",
   "execution_count": 31,
   "metadata": {
    "scrolled": true
   },
   "outputs": [
    {
     "data": {
      "image/png": "[encoded data removed]",
      "text/plain": [
       "<Figure size 432x288 with 1 Axes>"
      ]
     },
     "metadata": {},
     "output_type": "display_data"
    }
   ],
   "source": [
    "sns.set(font_scale=1.3)\n",
    "\n",
    "df_all.groupby(['author']).style.nunique().hist(bins=20)\n",
    "plt.xlabel('Число уникальных стилей у автора', fontsize=17);\n",
    "plt.ylabel('Число авторов', fontsize=17);\n",
    "plt.title('', fontsize=17)\n",
    "plt.show()"
   ]
  },
  {
   "cell_type": "code",
   "execution_count": null,
   "metadata": {},
   "outputs": [],
   "source": []
  },
  {
   "cell_type": "code",
   "execution_count": null,
   "metadata": {},
   "outputs": [],
   "source": []
  },
  {
   "cell_type": "code",
   "execution_count": null,
   "metadata": {},
   "outputs": [],
   "source": []
  },
  {
   "cell_type": "code",
   "execution_count": 361,
   "metadata": {},
   "outputs": [],
   "source": [
    "df_all = df_all[~df_all['class'].isin(df_all.groupby('class').filter(lambda x: len(x) == 1)['class'])]"
   ]
  },
  {
   "cell_type": "code",
   "execution_count": null,
   "metadata": {},
   "outputs": [],
   "source": []
  },
  {
   "cell_type": "code",
   "execution_count": 362,
   "metadata": {},
   "outputs": [
    {
     "data": {
      "text/plain": [
       "Impressionism__pierre-auguste-renoir         1376\n",
       "Impressionism__claude-monet                  1320\n",
       "Symbolism__nicholas-roerich                  1200\n",
       "Post_Impressionism__vincent-van-gogh         1006\n",
       "Realism__vincent-van-gogh                     884\n",
       "                                             ... \n",
       "Cubism__hans-richter                            2\n",
       "Abstract_Expressionism__rufino-tamayo           2\n",
       "Post_Impressionism__jacoba-van-heemskerck       2\n",
       "Realism__karoly-ferenczy                        2\n",
       "Realism__henri-edmond-cross                     2\n",
       "Name: class, Length: 1925, dtype: int64"
      ]
     },
     "execution_count": 362,
     "metadata": {},
     "output_type": "execute_result"
    }
   ],
   "source": [
    "df_all['class'].value_counts()"
   ]
  },
  {
   "cell_type": "code",
   "execution_count": 363,
   "metadata": {
    "scrolled": true
   },
   "outputs": [
    {
     "data": {
      "text/plain": [
       "81263"
      ]
     },
     "execution_count": 363,
     "metadata": {},
     "output_type": "execute_result"
    }
   ],
   "source": [
    "df_all.shape[0]"
   ]
  },
  {
   "cell_type": "code",
   "execution_count": null,
   "metadata": {},
   "outputs": [],
   "source": []
  },
  {
   "cell_type": "code",
   "execution_count": 364,
   "metadata": {
    "scrolled": true
   },
   "outputs": [
    {
     "data": {
      "text/plain": [
       "23252"
      ]
     },
     "execution_count": 364,
     "metadata": {},
     "output_type": "execute_result"
    }
   ],
   "source": [
    "df_all.groupby('class').filter(lambda x: len(x) > 250).shape[0]"
   ]
  },
  {
   "cell_type": "code",
   "execution_count": 365,
   "metadata": {},
   "outputs": [
    {
     "data": {
      "text/plain": [
       "11500"
      ]
     },
     "execution_count": 365,
     "metadata": {},
     "output_type": "execute_result"
    }
   ],
   "source": [
    "df_all.groupby('class').filter(lambda x: len(x) > 250)['class'].nunique() * 250"
   ]
  },
  {
   "cell_type": "code",
   "execution_count": null,
   "metadata": {},
   "outputs": [],
   "source": []
  },
  {
   "cell_type": "code",
   "execution_count": 366,
   "metadata": {},
   "outputs": [],
   "source": [
    "df_g250 = df_all.groupby('class').filter(lambda x: len(x) > 250)\\\n",
    ".groupby('class').apply(lambda x: x.sample(250, random_state=42)).reset_index(drop=True)"
   ]
  },
  {
   "cell_type": "code",
   "execution_count": 367,
   "metadata": {},
   "outputs": [],
   "source": [
    "df_all = df_all[~df_all['class'].isin(df_all.groupby('class').filter(lambda x: len(x) > 250)['class'])]"
   ]
  },
  {
   "cell_type": "code",
   "execution_count": 368,
   "metadata": {},
   "outputs": [
    {
     "data": {
      "text/plain": [
       "11500"
      ]
     },
     "execution_count": 368,
     "metadata": {},
     "output_type": "execute_result"
    }
   ],
   "source": [
    "df_g250.shape[0]"
   ]
  },
  {
   "cell_type": "code",
   "execution_count": 369,
   "metadata": {},
   "outputs": [],
   "source": [
    "df_all = pd.concat([df_all, df_g250])"
   ]
  },
  {
   "cell_type": "code",
   "execution_count": 370,
   "metadata": {},
   "outputs": [],
   "source": [
    "df_all.reset_index(inplace=True, drop=True)"
   ]
  },
  {
   "cell_type": "code",
   "execution_count": 371,
   "metadata": {},
   "outputs": [
    {
     "data": {
      "text/html": [
       "<div>\n",
       "<style scoped>\n",
       "    .dataframe tbody tr th:only-of-type {\n",
       "        vertical-align: middle;\n",
       "    }\n",
       "\n",
       "    .dataframe tbody tr th {\n",
       "        vertical-align: top;\n",
       "    }\n",
       "\n",
       "    .dataframe thead th {\n",
       "        text-align: right;\n",
       "    }\n",
       "</style>\n",
       "<table border=\"1\" class=\"dataframe\">\n",
       "  <thead>\n",
       "    <tr style=\"text-align: right;\">\n",
       "      <th></th>\n",
       "      <th>filename</th>\n",
       "      <th>style</th>\n",
       "      <th>imgId</th>\n",
       "      <th>author</th>\n",
       "      <th>class</th>\n",
       "    </tr>\n",
       "  </thead>\n",
       "  <tbody>\n",
       "    <tr>\n",
       "      <th>0</th>\n",
       "      <td>jacob-jordaens_the-mission-of-st-peter-1617</td>\n",
       "      <td>Baroque</td>\n",
       "      <td>Baroque__jacob-jordaens_the-mission-of-st-pete...</td>\n",
       "      <td>jacob-jordaens</td>\n",
       "      <td>Baroque__jacob-jordaens</td>\n",
       "    </tr>\n",
       "    <tr>\n",
       "      <th>1</th>\n",
       "      <td>jacob-jordaens_study-of-the-head-of-abraham-gr...</td>\n",
       "      <td>Baroque</td>\n",
       "      <td>Baroque__jacob-jordaens_study-of-the-head-of-a...</td>\n",
       "      <td>jacob-jordaens</td>\n",
       "      <td>Baroque__jacob-jordaens</td>\n",
       "    </tr>\n",
       "    <tr>\n",
       "      <th>2</th>\n",
       "      <td>bartolome-esteban-murillo_st-isidore-of-sevill...</td>\n",
       "      <td>Baroque</td>\n",
       "      <td>Baroque__bartolome-esteban-murillo_st-isidore-...</td>\n",
       "      <td>bartolome-esteban-murillo</td>\n",
       "      <td>Baroque__bartolome-esteban-murillo</td>\n",
       "    </tr>\n",
       "    <tr>\n",
       "      <th>3</th>\n",
       "      <td>frans-snyders_a-fruit-stall-1</td>\n",
       "      <td>Baroque</td>\n",
       "      <td>Baroque__frans-snyders_a-fruit-stall-1</td>\n",
       "      <td>frans-snyders</td>\n",
       "      <td>Baroque__frans-snyders</td>\n",
       "    </tr>\n",
       "    <tr>\n",
       "      <th>4</th>\n",
       "      <td>david-teniers-the-younger_a-smoker-leaning-on-...</td>\n",
       "      <td>Baroque</td>\n",
       "      <td>Baroque__david-teniers-the-younger_a-smoker-le...</td>\n",
       "      <td>david-teniers-the-younger</td>\n",
       "      <td>Baroque__david-teniers-the-younger</td>\n",
       "    </tr>\n",
       "    <tr>\n",
       "      <th>...</th>\n",
       "      <td>...</td>\n",
       "      <td>...</td>\n",
       "      <td>...</td>\n",
       "      <td>...</td>\n",
       "      <td>...</td>\n",
       "    </tr>\n",
       "    <tr>\n",
       "      <th>69506</th>\n",
       "      <td>utagawa-kuniyoshi_koga-saburo-suspendeding-a-b...</td>\n",
       "      <td>Ukiyo_e</td>\n",
       "      <td>Ukiyo_e__utagawa-kuniyoshi_koga-saburo-suspend...</td>\n",
       "      <td>utagawa-kuniyoshi</td>\n",
       "      <td>Ukiyo_e__utagawa-kuniyoshi</td>\n",
       "    </tr>\n",
       "    <tr>\n",
       "      <th>69507</th>\n",
       "      <td>utagawa-kuniyoshi_catfish-1</td>\n",
       "      <td>Ukiyo_e</td>\n",
       "      <td>Ukiyo_e__utagawa-kuniyoshi_catfish-1</td>\n",
       "      <td>utagawa-kuniyoshi</td>\n",
       "      <td>Ukiyo_e__utagawa-kuniyoshi</td>\n",
       "    </tr>\n",
       "    <tr>\n",
       "      <th>69508</th>\n",
       "      <td>utagawa-kuniyoshi_nine-tailed-fox-tamamo-no-ma...</td>\n",
       "      <td>Ukiyo_e</td>\n",
       "      <td>Ukiyo_e__utagawa-kuniyoshi_nine-tailed-fox-tam...</td>\n",
       "      <td>utagawa-kuniyoshi</td>\n",
       "      <td>Ukiyo_e__utagawa-kuniyoshi</td>\n",
       "    </tr>\n",
       "    <tr>\n",
       "      <th>69509</th>\n",
       "      <td>utagawa-kuniyoshi_at-the-shore-of-the-sumida-r...</td>\n",
       "      <td>Ukiyo_e</td>\n",
       "      <td>Ukiyo_e__utagawa-kuniyoshi_at-the-shore-of-the...</td>\n",
       "      <td>utagawa-kuniyoshi</td>\n",
       "      <td>Ukiyo_e__utagawa-kuniyoshi</td>\n",
       "    </tr>\n",
       "    <tr>\n",
       "      <th>69510</th>\n",
       "      <td>utagawa-kuniyoshi_moso-hunting-for-bamboo-shoots</td>\n",
       "      <td>Ukiyo_e</td>\n",
       "      <td>Ukiyo_e__utagawa-kuniyoshi_moso-hunting-for-ba...</td>\n",
       "      <td>utagawa-kuniyoshi</td>\n",
       "      <td>Ukiyo_e__utagawa-kuniyoshi</td>\n",
       "    </tr>\n",
       "  </tbody>\n",
       "</table>\n",
       "<p>69511 rows × 5 columns</p>\n",
       "</div>"
      ],
      "text/plain": [
       "                                                filename    style  \\\n",
       "0            jacob-jordaens_the-mission-of-st-peter-1617  Baroque   \n",
       "1      jacob-jordaens_study-of-the-head-of-abraham-gr...  Baroque   \n",
       "2      bartolome-esteban-murillo_st-isidore-of-sevill...  Baroque   \n",
       "3                          frans-snyders_a-fruit-stall-1  Baroque   \n",
       "4      david-teniers-the-younger_a-smoker-leaning-on-...  Baroque   \n",
       "...                                                  ...      ...   \n",
       "69506  utagawa-kuniyoshi_koga-saburo-suspendeding-a-b...  Ukiyo_e   \n",
       "69507                        utagawa-kuniyoshi_catfish-1  Ukiyo_e   \n",
       "69508  utagawa-kuniyoshi_nine-tailed-fox-tamamo-no-ma...  Ukiyo_e   \n",
       "69509  utagawa-kuniyoshi_at-the-shore-of-the-sumida-r...  Ukiyo_e   \n",
       "69510   utagawa-kuniyoshi_moso-hunting-for-bamboo-shoots  Ukiyo_e   \n",
       "\n",
       "                                                   imgId  \\\n",
       "0      Baroque__jacob-jordaens_the-mission-of-st-pete...   \n",
       "1      Baroque__jacob-jordaens_study-of-the-head-of-a...   \n",
       "2      Baroque__bartolome-esteban-murillo_st-isidore-...   \n",
       "3                 Baroque__frans-snyders_a-fruit-stall-1   \n",
       "4      Baroque__david-teniers-the-younger_a-smoker-le...   \n",
       "...                                                  ...   \n",
       "69506  Ukiyo_e__utagawa-kuniyoshi_koga-saburo-suspend...   \n",
       "69507               Ukiyo_e__utagawa-kuniyoshi_catfish-1   \n",
       "69508  Ukiyo_e__utagawa-kuniyoshi_nine-tailed-fox-tam...   \n",
       "69509  Ukiyo_e__utagawa-kuniyoshi_at-the-shore-of-the...   \n",
       "69510  Ukiyo_e__utagawa-kuniyoshi_moso-hunting-for-ba...   \n",
       "\n",
       "                          author                               class  \n",
       "0                 jacob-jordaens             Baroque__jacob-jordaens  \n",
       "1                 jacob-jordaens             Baroque__jacob-jordaens  \n",
       "2      bartolome-esteban-murillo  Baroque__bartolome-esteban-murillo  \n",
       "3                  frans-snyders              Baroque__frans-snyders  \n",
       "4      david-teniers-the-younger  Baroque__david-teniers-the-younger  \n",
       "...                          ...                                 ...  \n",
       "69506          utagawa-kuniyoshi          Ukiyo_e__utagawa-kuniyoshi  \n",
       "69507          utagawa-kuniyoshi          Ukiyo_e__utagawa-kuniyoshi  \n",
       "69508          utagawa-kuniyoshi          Ukiyo_e__utagawa-kuniyoshi  \n",
       "69509          utagawa-kuniyoshi          Ukiyo_e__utagawa-kuniyoshi  \n",
       "69510          utagawa-kuniyoshi          Ukiyo_e__utagawa-kuniyoshi  \n",
       "\n",
       "[69511 rows x 5 columns]"
      ]
     },
     "execution_count": 371,
     "metadata": {},
     "output_type": "execute_result"
    }
   ],
   "source": [
    "df_all"
   ]
  },
  {
   "cell_type": "code",
   "execution_count": null,
   "metadata": {},
   "outputs": [],
   "source": []
  },
  {
   "cell_type": "code",
   "execution_count": 372,
   "metadata": {
    "scrolled": true
   },
   "outputs": [
    {
     "data": {
      "text/plain": [
       "Impressionism__childe-hassam            250\n",
       "Symbolism__nicholas-roerich             250\n",
       "Expressionism__ernst-ludwig-kirchner    250\n",
       "Realism__thomas-eakins                  250\n",
       "Impressionism__edgar-degas              250\n",
       "                                       ... \n",
       "Expressionism__janos-mattis-teutsch       2\n",
       "Impressionism__endre-bartos               2\n",
       "Expressionism__laszlo-moholy-nagy         2\n",
       "Post_Impressionism__robert-delaunay       2\n",
       "Impressionism__ivan-vladimirov            2\n",
       "Name: class, Length: 1925, dtype: int64"
      ]
     },
     "execution_count": 372,
     "metadata": {},
     "output_type": "execute_result"
    }
   ],
   "source": [
    "df_all['class'].value_counts()"
   ]
  },
  {
   "cell_type": "code",
   "execution_count": null,
   "metadata": {},
   "outputs": [],
   "source": []
  },
  {
   "cell_type": "code",
   "execution_count": 373,
   "metadata": {},
   "outputs": [],
   "source": [
    "df_all[columns_list].to_csv(os.path.join(PATH_CSV_DIR, 'all_after_filter.csv'),\n",
    "              sep=';', index=False)"
   ]
  },
  {
   "cell_type": "markdown",
   "metadata": {},
   "source": [
    "## Train test split"
   ]
  },
  {
   "cell_type": "code",
   "execution_count": 58,
   "metadata": {
    "scrolled": true
   },
   "outputs": [
    {
     "data": {
      "text/plain": [
       "<matplotlib.axes._subplots.AxesSubplot at 0x7f3066e0fac0>"
      ]
     },
     "execution_count": 58,
     "metadata": {},
     "output_type": "execute_result"
    },
    {
     "data": {
      "image/png": "[encoded data removed]",
      "text/plain": [
       "<Figure size 432x288 with 1 Axes>"
      ]
     },
     "metadata": {
      "needs_background": "light"
     },
     "output_type": "display_data"
    }
   ],
   "source": [
    "df_all['class'].value_counts().hist(bins=100)"
   ]
  },
  {
   "cell_type": "code",
   "execution_count": 59,
   "metadata": {},
   "outputs": [
    {
     "data": {
      "text/plain": [
       "69511"
      ]
     },
     "execution_count": 59,
     "metadata": {},
     "output_type": "execute_result"
    }
   ],
   "source": [
    "df_all.shape[0]"
   ]
  },
  {
   "cell_type": "code",
   "execution_count": null,
   "metadata": {},
   "outputs": [],
   "source": []
  },
  {
   "cell_type": "code",
   "execution_count": 61,
   "metadata": {},
   "outputs": [
    {
     "data": {
      "text/plain": [
       "27"
      ]
     },
     "execution_count": 61,
     "metadata": {},
     "output_type": "execute_result"
    }
   ],
   "source": [
    "df_all['style'].nunique()"
   ]
  },
  {
   "cell_type": "code",
   "execution_count": null,
   "metadata": {},
   "outputs": [],
   "source": []
  },
  {
   "cell_type": "code",
   "execution_count": 376,
   "metadata": {
    "scrolled": true
   },
   "outputs": [],
   "source": [
    "df_valid = df_all.sample(10000, random_state=42)"
   ]
  },
  {
   "cell_type": "code",
   "execution_count": 377,
   "metadata": {},
   "outputs": [],
   "source": [
    "df_train = df_all[~df_all.index.isin(df_valid.index)]"
   ]
  },
  {
   "cell_type": "code",
   "execution_count": null,
   "metadata": {},
   "outputs": [],
   "source": []
  },
  {
   "cell_type": "code",
   "execution_count": 378,
   "metadata": {},
   "outputs": [],
   "source": [
    "df_not_in_train = df_valid[~df_valid['class'].isin(df_train['class'])]"
   ]
  },
  {
   "cell_type": "code",
   "execution_count": 379,
   "metadata": {},
   "outputs": [],
   "source": [
    "df_train = pd.concat([df_train, df_not_in_train])"
   ]
  },
  {
   "cell_type": "code",
   "execution_count": 380,
   "metadata": {},
   "outputs": [],
   "source": [
    "df_valid = df_valid[~df_valid['class'].isin(df_not_in_train['class'])]"
   ]
  },
  {
   "cell_type": "code",
   "execution_count": 381,
   "metadata": {},
   "outputs": [
    {
     "data": {
      "text/plain": [
       "69511"
      ]
     },
     "execution_count": 381,
     "metadata": {},
     "output_type": "execute_result"
    }
   ],
   "source": [
    "df_train.shape[0] + df_valid.shape[0]"
   ]
  },
  {
   "cell_type": "code",
   "execution_count": null,
   "metadata": {},
   "outputs": [],
   "source": []
  },
  {
   "cell_type": "code",
   "execution_count": 382,
   "metadata": {},
   "outputs": [
    {
     "data": {
      "text/plain": [
       "(1925, 1925, 1533)"
      ]
     },
     "execution_count": 382,
     "metadata": {},
     "output_type": "execute_result"
    }
   ],
   "source": [
    "df_all['class'].nunique(), df_train['class'].nunique(), df_valid['class'].nunique()"
   ]
  },
  {
   "cell_type": "code",
   "execution_count": 383,
   "metadata": {},
   "outputs": [
    {
     "data": {
      "text/plain": [
       "<matplotlib.axes._subplots.AxesSubplot at 0x7f2445e26e80>"
      ]
     },
     "execution_count": 383,
     "metadata": {},
     "output_type": "execute_result"
    },
    {
     "data": {
      "image/png": "[encoded data removed]",
      "text/plain": [
       "<Figure size 432x288 with 1 Axes>"
      ]
     },
     "metadata": {
      "needs_background": "light"
     },
     "output_type": "display_data"
    }
   ],
   "source": [
    "df_all[df_all['class'].isin(df_valid['class'])]['class'].value_counts().hist(bins=100)"
   ]
  },
  {
   "cell_type": "code",
   "execution_count": 384,
   "metadata": {},
   "outputs": [
    {
     "data": {
      "text/html": [
       "<div>\n",
       "<style scoped>\n",
       "    .dataframe tbody tr th:only-of-type {\n",
       "        vertical-align: middle;\n",
       "    }\n",
       "\n",
       "    .dataframe tbody tr th {\n",
       "        vertical-align: top;\n",
       "    }\n",
       "\n",
       "    .dataframe thead th {\n",
       "        text-align: right;\n",
       "    }\n",
       "</style>\n",
       "<table border=\"1\" class=\"dataframe\">\n",
       "  <thead>\n",
       "    <tr style=\"text-align: right;\">\n",
       "      <th></th>\n",
       "      <th>filename</th>\n",
       "      <th>style</th>\n",
       "      <th>imgId</th>\n",
       "      <th>author</th>\n",
       "      <th>class</th>\n",
       "    </tr>\n",
       "  </thead>\n",
       "  <tbody>\n",
       "    <tr>\n",
       "      <th>22506</th>\n",
       "      <td>pablo-picasso_two-nude-women-1906</td>\n",
       "      <td>Expressionism</td>\n",
       "      <td>Expressionism__pablo-picasso_two-nude-women-1906</td>\n",
       "      <td>pablo-picasso</td>\n",
       "      <td>Expressionism__pablo-picasso</td>\n",
       "    </tr>\n",
       "    <tr>\n",
       "      <th>7732</th>\n",
       "      <td>jean-francois-millet_the-man-with-the-hoe-1862</td>\n",
       "      <td>Realism</td>\n",
       "      <td>Realism__jean-francois-millet_the-man-with-the...</td>\n",
       "      <td>jean-francois-millet</td>\n",
       "      <td>Realism__jean-francois-millet</td>\n",
       "    </tr>\n",
       "    <tr>\n",
       "      <th>18600</th>\n",
       "      <td>paul-cezanne_pastoral-or-idyll-1870</td>\n",
       "      <td>Romanticism</td>\n",
       "      <td>Romanticism__paul-cezanne_pastoral-or-idyll-1870</td>\n",
       "      <td>paul-cezanne</td>\n",
       "      <td>Romanticism__paul-cezanne</td>\n",
       "    </tr>\n",
       "    <tr>\n",
       "      <th>29780</th>\n",
       "      <td>federico-zandomeneghi_figure-of-man-sitting</td>\n",
       "      <td>Impressionism</td>\n",
       "      <td>Impressionism__federico-zandomeneghi_figure-of...</td>\n",
       "      <td>federico-zandomeneghi</td>\n",
       "      <td>Impressionism__federico-zandomeneghi</td>\n",
       "    </tr>\n",
       "    <tr>\n",
       "      <th>43277</th>\n",
       "      <td>paul-gauguin_still-life-with-cherries-1886</td>\n",
       "      <td>Post_Impressionism</td>\n",
       "      <td>Post_Impressionism__paul-gauguin_still-life-wi...</td>\n",
       "      <td>paul-gauguin</td>\n",
       "      <td>Post_Impressionism__paul-gauguin</td>\n",
       "    </tr>\n",
       "    <tr>\n",
       "      <th>...</th>\n",
       "      <td>...</td>\n",
       "      <td>...</td>\n",
       "      <td>...</td>\n",
       "      <td>...</td>\n",
       "      <td>...</td>\n",
       "    </tr>\n",
       "    <tr>\n",
       "      <th>588</th>\n",
       "      <td>alonzo-cano_noli-me-tangere</td>\n",
       "      <td>Baroque</td>\n",
       "      <td>Baroque__alonzo-cano_noli-me-tangere</td>\n",
       "      <td>alonzo-cano</td>\n",
       "      <td>Baroque__alonzo-cano</td>\n",
       "    </tr>\n",
       "    <tr>\n",
       "      <th>48399</th>\n",
       "      <td>frank-stella_sinjerli-variations-iia-1977</td>\n",
       "      <td>Color_Field_Painting</td>\n",
       "      <td>Color_Field_Painting__frank-stella_sinjerli-va...</td>\n",
       "      <td>frank-stella</td>\n",
       "      <td>Color_Field_Painting__frank-stella</td>\n",
       "    </tr>\n",
       "    <tr>\n",
       "      <th>64832</th>\n",
       "      <td>camille-corot_the-bay-of-somme</td>\n",
       "      <td>Realism</td>\n",
       "      <td>Realism__camille-corot_the-bay-of-somme</td>\n",
       "      <td>camille-corot</td>\n",
       "      <td>Realism__camille-corot</td>\n",
       "    </tr>\n",
       "    <tr>\n",
       "      <th>55400</th>\n",
       "      <td>masaccio_portrait-of-a-young-woman-1425</td>\n",
       "      <td>Early_Renaissance</td>\n",
       "      <td>Early_Renaissance__masaccio_portrait-of-a-youn...</td>\n",
       "      <td>masaccio</td>\n",
       "      <td>Early_Renaissance__masaccio</td>\n",
       "    </tr>\n",
       "    <tr>\n",
       "      <th>9086</th>\n",
       "      <td>juan-gris_bottle-of-beaune-and-a-fruit-dish-1917</td>\n",
       "      <td>Synthetic_Cubism</td>\n",
       "      <td>Synthetic_Cubism__juan-gris_bottle-of-beaune-a...</td>\n",
       "      <td>juan-gris</td>\n",
       "      <td>Synthetic_Cubism__juan-gris</td>\n",
       "    </tr>\n",
       "  </tbody>\n",
       "</table>\n",
       "<p>9991 rows × 5 columns</p>\n",
       "</div>"
      ],
      "text/plain": [
       "                                               filename                 style  \\\n",
       "22506                 pablo-picasso_two-nude-women-1906         Expressionism   \n",
       "7732     jean-francois-millet_the-man-with-the-hoe-1862               Realism   \n",
       "18600               paul-cezanne_pastoral-or-idyll-1870           Romanticism   \n",
       "29780       federico-zandomeneghi_figure-of-man-sitting         Impressionism   \n",
       "43277        paul-gauguin_still-life-with-cherries-1886    Post_Impressionism   \n",
       "...                                                 ...                   ...   \n",
       "588                         alonzo-cano_noli-me-tangere               Baroque   \n",
       "48399         frank-stella_sinjerli-variations-iia-1977  Color_Field_Painting   \n",
       "64832                    camille-corot_the-bay-of-somme               Realism   \n",
       "55400           masaccio_portrait-of-a-young-woman-1425     Early_Renaissance   \n",
       "9086   juan-gris_bottle-of-beaune-and-a-fruit-dish-1917      Synthetic_Cubism   \n",
       "\n",
       "                                                   imgId  \\\n",
       "22506   Expressionism__pablo-picasso_two-nude-women-1906   \n",
       "7732   Realism__jean-francois-millet_the-man-with-the...   \n",
       "18600   Romanticism__paul-cezanne_pastoral-or-idyll-1870   \n",
       "29780  Impressionism__federico-zandomeneghi_figure-of...   \n",
       "43277  Post_Impressionism__paul-gauguin_still-life-wi...   \n",
       "...                                                  ...   \n",
       "588                 Baroque__alonzo-cano_noli-me-tangere   \n",
       "48399  Color_Field_Painting__frank-stella_sinjerli-va...   \n",
       "64832            Realism__camille-corot_the-bay-of-somme   \n",
       "55400  Early_Renaissance__masaccio_portrait-of-a-youn...   \n",
       "9086   Synthetic_Cubism__juan-gris_bottle-of-beaune-a...   \n",
       "\n",
       "                      author                                 class  \n",
       "22506          pablo-picasso          Expressionism__pablo-picasso  \n",
       "7732    jean-francois-millet         Realism__jean-francois-millet  \n",
       "18600           paul-cezanne             Romanticism__paul-cezanne  \n",
       "29780  federico-zandomeneghi  Impressionism__federico-zandomeneghi  \n",
       "43277           paul-gauguin      Post_Impressionism__paul-gauguin  \n",
       "...                      ...                                   ...  \n",
       "588              alonzo-cano                  Baroque__alonzo-cano  \n",
       "48399           frank-stella    Color_Field_Painting__frank-stella  \n",
       "64832          camille-corot                Realism__camille-corot  \n",
       "55400               masaccio           Early_Renaissance__masaccio  \n",
       "9086               juan-gris           Synthetic_Cubism__juan-gris  \n",
       "\n",
       "[9991 rows x 5 columns]"
      ]
     },
     "execution_count": 384,
     "metadata": {},
     "output_type": "execute_result"
    }
   ],
   "source": [
    "df_valid"
   ]
  },
  {
   "cell_type": "code",
   "execution_count": null,
   "metadata": {},
   "outputs": [],
   "source": []
  },
  {
   "cell_type": "code",
   "execution_count": 385,
   "metadata": {},
   "outputs": [],
   "source": [
    "df_train[columns_list].to_csv(os.path.join(PATH_CSV_DIR, 'train.csv'),\n",
    "              sep=';', index=False)"
   ]
  },
  {
   "cell_type": "code",
   "execution_count": 386,
   "metadata": {},
   "outputs": [],
   "source": [
    "df_valid[columns_list].to_csv(os.path.join(PATH_CSV_DIR, 'valid.csv'),\n",
    "              sep=';', index=False)"
   ]
  },
  {
   "cell_type": "code",
   "execution_count": null,
   "metadata": {},
   "outputs": [],
   "source": []
  },
  {
   "cell_type": "markdown",
   "metadata": {},
   "source": [
    "# Change meta data"
   ]
  },
  {
   "cell_type": "code",
   "execution_count": 1,
   "metadata": {},
   "outputs": [
    {
     "ename": "NameError",
     "evalue": "name 'pd' is not defined",
     "output_type": "error",
     "traceback": [
      "\u001b[0;31m---------------------------------------------------------------------------\u001b[0m",
      "\u001b[0;31mNameError\u001b[0m                                 Traceback (most recent call last)",
      "\u001b[0;32m<ipython-input-1-346f9db14866>\u001b[0m in \u001b[0;36m<module>\u001b[0;34m\u001b[0m\n\u001b[0;32m----> 1\u001b[0;31m df_train = pd.read_csv(os.path.join(PATH_CSV_DIR, 'train.csv'),\n\u001b[0m\u001b[1;32m      2\u001b[0m                        sep=';')\n\u001b[1;32m      3\u001b[0m \u001b[0;34m\u001b[0m\u001b[0m\n\u001b[1;32m      4\u001b[0m df_valid = pd.read_csv(os.path.join(PATH_CSV_DIR, 'valid.csv'),\n\u001b[1;32m      5\u001b[0m                        sep=';')\n",
      "\u001b[0;31mNameError\u001b[0m: name 'pd' is not defined"
     ]
    }
   ],
   "source": [
    "df_train = pd.read_csv(os.path.join(PATH_CSV_DIR, 'train.csv'),\n",
    "                       sep=';')\n",
    "\n",
    "df_valid = pd.read_csv(os.path.join(PATH_CSV_DIR, 'valid.csv'),\n",
    "                       sep=';')"
   ]
  },
  {
   "cell_type": "code",
   "execution_count": null,
   "metadata": {},
   "outputs": [],
   "source": []
  },
  {
   "cell_type": "code",
   "execution_count": 12,
   "metadata": {},
   "outputs": [],
   "source": [
    "def change_name(name: str) -> str:\n",
    "    name_split = name.split('-')\n",
    "    \n",
    "    new_name = ''\n",
    "    \n",
    "    for i, s in enumerate(name_split):\n",
    "        if i > 0:\n",
    "            new_name += ' '\n",
    "            \n",
    "        new_name += s[0].upper() + s[1:]\n",
    "    \n",
    "    return new_name\n",
    "        \n",
    "    \n",
    "df_train['author'] = df_train.author.apply(lambda x: change_name(x))\n",
    "df_valid['author'] = df_valid.author.apply(lambda x: change_name(x))"
   ]
  },
  {
   "cell_type": "code",
   "execution_count": 13,
   "metadata": {},
   "outputs": [
    {
     "data": {
      "text/html": [
       "<div>\n",
       "<style scoped>\n",
       "    .dataframe tbody tr th:only-of-type {\n",
       "        vertical-align: middle;\n",
       "    }\n",
       "\n",
       "    .dataframe tbody tr th {\n",
       "        vertical-align: top;\n",
       "    }\n",
       "\n",
       "    .dataframe thead th {\n",
       "        text-align: right;\n",
       "    }\n",
       "</style>\n",
       "<table border=\"1\" class=\"dataframe\">\n",
       "  <thead>\n",
       "    <tr style=\"text-align: right;\">\n",
       "      <th></th>\n",
       "      <th>imgId</th>\n",
       "      <th>style</th>\n",
       "      <th>author</th>\n",
       "      <th>class</th>\n",
       "    </tr>\n",
       "  </thead>\n",
       "  <tbody>\n",
       "    <tr>\n",
       "      <th>0</th>\n",
       "      <td>Baroque__jacob-jordaens_the-mission-of-st-pete...</td>\n",
       "      <td>Baroque</td>\n",
       "      <td>Jacob Jordaens</td>\n",
       "      <td>Baroque__jacob-jordaens</td>\n",
       "    </tr>\n",
       "    <tr>\n",
       "      <th>1</th>\n",
       "      <td>Baroque__jacob-jordaens_study-of-the-head-of-a...</td>\n",
       "      <td>Baroque</td>\n",
       "      <td>Jacob Jordaens</td>\n",
       "      <td>Baroque__jacob-jordaens</td>\n",
       "    </tr>\n",
       "    <tr>\n",
       "      <th>2</th>\n",
       "      <td>Baroque__bartolome-esteban-murillo_st-isidore-...</td>\n",
       "      <td>Baroque</td>\n",
       "      <td>Bartolome Esteban Murillo</td>\n",
       "      <td>Baroque__bartolome-esteban-murillo</td>\n",
       "    </tr>\n",
       "    <tr>\n",
       "      <th>3</th>\n",
       "      <td>Baroque__frans-snyders_a-fruit-stall-1</td>\n",
       "      <td>Baroque</td>\n",
       "      <td>Frans Snyders</td>\n",
       "      <td>Baroque__frans-snyders</td>\n",
       "    </tr>\n",
       "    <tr>\n",
       "      <th>4</th>\n",
       "      <td>Baroque__david-teniers-the-younger_a-smoker-le...</td>\n",
       "      <td>Baroque</td>\n",
       "      <td>David Teniers The Younger</td>\n",
       "      <td>Baroque__david-teniers-the-younger</td>\n",
       "    </tr>\n",
       "    <tr>\n",
       "      <th>...</th>\n",
       "      <td>...</td>\n",
       "      <td>...</td>\n",
       "      <td>...</td>\n",
       "      <td>...</td>\n",
       "    </tr>\n",
       "    <tr>\n",
       "      <th>59515</th>\n",
       "      <td>Impressionism__burhan-dogancay_old-ankara-1958</td>\n",
       "      <td>Impressionism</td>\n",
       "      <td>Burhan Dogancay</td>\n",
       "      <td>Impressionism__burhan-dogancay</td>\n",
       "    </tr>\n",
       "    <tr>\n",
       "      <th>59516</th>\n",
       "      <td>Fauvism__natalia-goncharova_self-portrait-with...</td>\n",
       "      <td>Fauvism</td>\n",
       "      <td>Natalia Goncharova</td>\n",
       "      <td>Fauvism__natalia-goncharova</td>\n",
       "    </tr>\n",
       "    <tr>\n",
       "      <th>59517</th>\n",
       "      <td>Abstract_Expressionism__roberto-matta_to-give-...</td>\n",
       "      <td>Abstract_Expressionism</td>\n",
       "      <td>Roberto Matta</td>\n",
       "      <td>Abstract_Expressionism__roberto-matta</td>\n",
       "    </tr>\n",
       "    <tr>\n",
       "      <th>59518</th>\n",
       "      <td>Abstract_Expressionism__roberto-matta_redness-...</td>\n",
       "      <td>Abstract_Expressionism</td>\n",
       "      <td>Roberto Matta</td>\n",
       "      <td>Abstract_Expressionism__roberto-matta</td>\n",
       "    </tr>\n",
       "    <tr>\n",
       "      <th>59519</th>\n",
       "      <td>Impressionism__burhan-dogancay_silifke-den-1956</td>\n",
       "      <td>Impressionism</td>\n",
       "      <td>Burhan Dogancay</td>\n",
       "      <td>Impressionism__burhan-dogancay</td>\n",
       "    </tr>\n",
       "  </tbody>\n",
       "</table>\n",
       "<p>59520 rows × 4 columns</p>\n",
       "</div>"
      ],
      "text/plain": [
       "                                                   imgId  \\\n",
       "0      Baroque__jacob-jordaens_the-mission-of-st-pete...   \n",
       "1      Baroque__jacob-jordaens_study-of-the-head-of-a...   \n",
       "2      Baroque__bartolome-esteban-murillo_st-isidore-...   \n",
       "3                 Baroque__frans-snyders_a-fruit-stall-1   \n",
       "4      Baroque__david-teniers-the-younger_a-smoker-le...   \n",
       "...                                                  ...   \n",
       "59515     Impressionism__burhan-dogancay_old-ankara-1958   \n",
       "59516  Fauvism__natalia-goncharova_self-portrait-with...   \n",
       "59517  Abstract_Expressionism__roberto-matta_to-give-...   \n",
       "59518  Abstract_Expressionism__roberto-matta_redness-...   \n",
       "59519    Impressionism__burhan-dogancay_silifke-den-1956   \n",
       "\n",
       "                        style                     author  \\\n",
       "0                     Baroque             Jacob Jordaens   \n",
       "1                     Baroque             Jacob Jordaens   \n",
       "2                     Baroque  Bartolome Esteban Murillo   \n",
       "3                     Baroque              Frans Snyders   \n",
       "4                     Baroque  David Teniers The Younger   \n",
       "...                       ...                        ...   \n",
       "59515           Impressionism            Burhan Dogancay   \n",
       "59516                 Fauvism         Natalia Goncharova   \n",
       "59517  Abstract_Expressionism              Roberto Matta   \n",
       "59518  Abstract_Expressionism              Roberto Matta   \n",
       "59519           Impressionism            Burhan Dogancay   \n",
       "\n",
       "                                       class  \n",
       "0                    Baroque__jacob-jordaens  \n",
       "1                    Baroque__jacob-jordaens  \n",
       "2         Baroque__bartolome-esteban-murillo  \n",
       "3                     Baroque__frans-snyders  \n",
       "4         Baroque__david-teniers-the-younger  \n",
       "...                                      ...  \n",
       "59515         Impressionism__burhan-dogancay  \n",
       "59516            Fauvism__natalia-goncharova  \n",
       "59517  Abstract_Expressionism__roberto-matta  \n",
       "59518  Abstract_Expressionism__roberto-matta  \n",
       "59519         Impressionism__burhan-dogancay  \n",
       "\n",
       "[59520 rows x 4 columns]"
      ]
     },
     "execution_count": 13,
     "metadata": {},
     "output_type": "execute_result"
    }
   ],
   "source": [
    "df_train"
   ]
  },
  {
   "cell_type": "code",
   "execution_count": 14,
   "metadata": {},
   "outputs": [],
   "source": [
    "df_train[columns_list].to_csv(os.path.join(PATH_CSV_DIR, 'train.csv'),\n",
    "              sep=';', index=False)\n",
    "\n",
    "df_valid[columns_list].to_csv(os.path.join(PATH_CSV_DIR, 'valid.csv'),\n",
    "              sep=';', index=False)"
   ]
  },
  {
   "cell_type": "code",
   "execution_count": null,
   "metadata": {},
   "outputs": [],
   "source": []
  },
  {
   "cell_type": "code",
   "execution_count": 19,
   "metadata": {},
   "outputs": [
    {
     "data": {
      "text/plain": [
       "Impressionism__konstantin-korovin_cafe-in-yalta-1905                               1\n",
       "Baroque__bartolome-esteban-murillo_francis-xavier-1670                             1\n",
       "Baroque__anthony-van-dyck_queen-henrietta-maria-1635                               1\n",
       "Post_Impressionism__grace-cossington-smith_strike-1917                             1\n",
       "Early_Renaissance__antonello-da-messina_portrait-of-a-man-1470                     1\n",
       "Impressionism__konstantin-makovsky_woman-head-portrait-of-e-kovaliova              1\n",
       "Baroque__frans-hals_portrait-of-a-man-8                                            1\n",
       "Post_Impressionism__walter-sickert_lady-martin-1935                                1\n",
       "Realism__pavel-fedotov_get-married-gentlemen-that-would-come-in-very-handy         1\n",
       "Early_Renaissance__sandro-botticelli_madonna-of-the-magnificat-1481(1)             1\n",
       "Expressionism__max-pechstein_the-masked-woman-1910                                 1\n",
       "Realism__camille-corot_young-girl-learning-to-write                                1\n",
       "Romanticism__gustave-dore_sanuti-showing-maps-of-the-east-to-pope-john-xxii        1\n",
       "Post_Impressionism__panayiotis-tetsis_cafe-1957                                    1\n",
       "Realism__thomas-eakins_cowboy-singing-1                                            1\n",
       "Romanticism__konstantin-makovsky_portrait-of-maria-feodorovna-dagmar-of-denmark    1\n",
       "Realism__vasily-surikov_study-to-boyarynya-morozova-4                              1\n",
       "Baroque__diego-velazquez_an-old-woman-cooking-eggs-1618                            1\n",
       "Rococo__jean-honore-fragonard_marie-madeleine-guimard                              1\n",
       "Baroque__esaias-van-de-velde_ferry-boat-1622                                       1\n",
       "Name: imgId, dtype: int64"
      ]
     },
     "execution_count": 19,
     "metadata": {},
     "output_type": "execute_result"
    }
   ],
   "source": [
    "df_valid.sample(20).imgId.value_counts()"
   ]
  },
  {
   "cell_type": "code",
   "execution_count": null,
   "metadata": {},
   "outputs": [],
   "source": []
  },
  {
   "cell_type": "markdown",
   "metadata": {},
   "source": [
    "# Create index set and test set"
   ]
  },
  {
   "cell_type": "code",
   "execution_count": 47,
   "metadata": {},
   "outputs": [
    {
     "data": {
      "text/html": [
       "<div>\n",
       "<style scoped>\n",
       "    .dataframe tbody tr th:only-of-type {\n",
       "        vertical-align: middle;\n",
       "    }\n",
       "\n",
       "    .dataframe tbody tr th {\n",
       "        vertical-align: top;\n",
       "    }\n",
       "\n",
       "    .dataframe thead th {\n",
       "        text-align: right;\n",
       "    }\n",
       "</style>\n",
       "<table border=\"1\" class=\"dataframe\">\n",
       "  <thead>\n",
       "    <tr style=\"text-align: right;\">\n",
       "      <th></th>\n",
       "      <th>imgId</th>\n",
       "      <th>style</th>\n",
       "      <th>author</th>\n",
       "      <th>class</th>\n",
       "    </tr>\n",
       "  </thead>\n",
       "  <tbody>\n",
       "    <tr>\n",
       "      <th>0</th>\n",
       "      <td>Baroque__jacob-jordaens_the-mission-of-st-pete...</td>\n",
       "      <td>Baroque</td>\n",
       "      <td>Jacob Jordaens</td>\n",
       "      <td>Baroque__jacob-jordaens</td>\n",
       "    </tr>\n",
       "    <tr>\n",
       "      <th>1</th>\n",
       "      <td>Baroque__jacob-jordaens_study-of-the-head-of-a...</td>\n",
       "      <td>Baroque</td>\n",
       "      <td>Jacob Jordaens</td>\n",
       "      <td>Baroque__jacob-jordaens</td>\n",
       "    </tr>\n",
       "    <tr>\n",
       "      <th>2</th>\n",
       "      <td>Baroque__bartolome-esteban-murillo_st-isidore-...</td>\n",
       "      <td>Baroque</td>\n",
       "      <td>Bartolome Esteban Murillo</td>\n",
       "      <td>Baroque__bartolome-esteban-murillo</td>\n",
       "    </tr>\n",
       "    <tr>\n",
       "      <th>3</th>\n",
       "      <td>Baroque__frans-snyders_a-fruit-stall-1</td>\n",
       "      <td>Baroque</td>\n",
       "      <td>Frans Snyders</td>\n",
       "      <td>Baroque__frans-snyders</td>\n",
       "    </tr>\n",
       "    <tr>\n",
       "      <th>4</th>\n",
       "      <td>Baroque__david-teniers-the-younger_a-smoker-le...</td>\n",
       "      <td>Baroque</td>\n",
       "      <td>David Teniers The Younger</td>\n",
       "      <td>Baroque__david-teniers-the-younger</td>\n",
       "    </tr>\n",
       "    <tr>\n",
       "      <th>...</th>\n",
       "      <td>...</td>\n",
       "      <td>...</td>\n",
       "      <td>...</td>\n",
       "      <td>...</td>\n",
       "    </tr>\n",
       "    <tr>\n",
       "      <th>59515</th>\n",
       "      <td>Impressionism__burhan-dogancay_old-ankara-1958</td>\n",
       "      <td>Impressionism</td>\n",
       "      <td>Burhan Dogancay</td>\n",
       "      <td>Impressionism__burhan-dogancay</td>\n",
       "    </tr>\n",
       "    <tr>\n",
       "      <th>59516</th>\n",
       "      <td>Fauvism__natalia-goncharova_self-portrait-with...</td>\n",
       "      <td>Fauvism</td>\n",
       "      <td>Natalia Goncharova</td>\n",
       "      <td>Fauvism__natalia-goncharova</td>\n",
       "    </tr>\n",
       "    <tr>\n",
       "      <th>59517</th>\n",
       "      <td>Abstract_Expressionism__roberto-matta_to-give-...</td>\n",
       "      <td>Abstract_Expressionism</td>\n",
       "      <td>Roberto Matta</td>\n",
       "      <td>Abstract_Expressionism__roberto-matta</td>\n",
       "    </tr>\n",
       "    <tr>\n",
       "      <th>59518</th>\n",
       "      <td>Abstract_Expressionism__roberto-matta_redness-...</td>\n",
       "      <td>Abstract_Expressionism</td>\n",
       "      <td>Roberto Matta</td>\n",
       "      <td>Abstract_Expressionism__roberto-matta</td>\n",
       "    </tr>\n",
       "    <tr>\n",
       "      <th>59519</th>\n",
       "      <td>Impressionism__burhan-dogancay_silifke-den-1956</td>\n",
       "      <td>Impressionism</td>\n",
       "      <td>Burhan Dogancay</td>\n",
       "      <td>Impressionism__burhan-dogancay</td>\n",
       "    </tr>\n",
       "  </tbody>\n",
       "</table>\n",
       "<p>59520 rows × 4 columns</p>\n",
       "</div>"
      ],
      "text/plain": [
       "                                                   imgId  \\\n",
       "0      Baroque__jacob-jordaens_the-mission-of-st-pete...   \n",
       "1      Baroque__jacob-jordaens_study-of-the-head-of-a...   \n",
       "2      Baroque__bartolome-esteban-murillo_st-isidore-...   \n",
       "3                 Baroque__frans-snyders_a-fruit-stall-1   \n",
       "4      Baroque__david-teniers-the-younger_a-smoker-le...   \n",
       "...                                                  ...   \n",
       "59515     Impressionism__burhan-dogancay_old-ankara-1958   \n",
       "59516  Fauvism__natalia-goncharova_self-portrait-with...   \n",
       "59517  Abstract_Expressionism__roberto-matta_to-give-...   \n",
       "59518  Abstract_Expressionism__roberto-matta_redness-...   \n",
       "59519    Impressionism__burhan-dogancay_silifke-den-1956   \n",
       "\n",
       "                        style                     author  \\\n",
       "0                     Baroque             Jacob Jordaens   \n",
       "1                     Baroque             Jacob Jordaens   \n",
       "2                     Baroque  Bartolome Esteban Murillo   \n",
       "3                     Baroque              Frans Snyders   \n",
       "4                     Baroque  David Teniers The Younger   \n",
       "...                       ...                        ...   \n",
       "59515           Impressionism            Burhan Dogancay   \n",
       "59516                 Fauvism         Natalia Goncharova   \n",
       "59517  Abstract_Expressionism              Roberto Matta   \n",
       "59518  Abstract_Expressionism              Roberto Matta   \n",
       "59519           Impressionism            Burhan Dogancay   \n",
       "\n",
       "                                       class  \n",
       "0                    Baroque__jacob-jordaens  \n",
       "1                    Baroque__jacob-jordaens  \n",
       "2         Baroque__bartolome-esteban-murillo  \n",
       "3                     Baroque__frans-snyders  \n",
       "4         Baroque__david-teniers-the-younger  \n",
       "...                                      ...  \n",
       "59515         Impressionism__burhan-dogancay  \n",
       "59516            Fauvism__natalia-goncharova  \n",
       "59517  Abstract_Expressionism__roberto-matta  \n",
       "59518  Abstract_Expressionism__roberto-matta  \n",
       "59519         Impressionism__burhan-dogancay  \n",
       "\n",
       "[59520 rows x 4 columns]"
      ]
     },
     "execution_count": 47,
     "metadata": {},
     "output_type": "execute_result"
    }
   ],
   "source": [
    "df_train"
   ]
  },
  {
   "cell_type": "code",
   "execution_count": 48,
   "metadata": {},
   "outputs": [
    {
     "data": {
      "text/html": [
       "<div>\n",
       "<style scoped>\n",
       "    .dataframe tbody tr th:only-of-type {\n",
       "        vertical-align: middle;\n",
       "    }\n",
       "\n",
       "    .dataframe tbody tr th {\n",
       "        vertical-align: top;\n",
       "    }\n",
       "\n",
       "    .dataframe thead th {\n",
       "        text-align: right;\n",
       "    }\n",
       "</style>\n",
       "<table border=\"1\" class=\"dataframe\">\n",
       "  <thead>\n",
       "    <tr style=\"text-align: right;\">\n",
       "      <th></th>\n",
       "      <th>imgId</th>\n",
       "      <th>style</th>\n",
       "      <th>author</th>\n",
       "      <th>class</th>\n",
       "    </tr>\n",
       "  </thead>\n",
       "  <tbody>\n",
       "    <tr>\n",
       "      <th>0</th>\n",
       "      <td>Expressionism__pablo-picasso_two-nude-women-1906</td>\n",
       "      <td>Expressionism</td>\n",
       "      <td>Pablo Picasso</td>\n",
       "      <td>Expressionism__pablo-picasso</td>\n",
       "    </tr>\n",
       "    <tr>\n",
       "      <th>1</th>\n",
       "      <td>Realism__jean-francois-millet_the-man-with-the...</td>\n",
       "      <td>Realism</td>\n",
       "      <td>Jean Francois Millet</td>\n",
       "      <td>Realism__jean-francois-millet</td>\n",
       "    </tr>\n",
       "    <tr>\n",
       "      <th>2</th>\n",
       "      <td>Romanticism__paul-cezanne_pastoral-or-idyll-1870</td>\n",
       "      <td>Romanticism</td>\n",
       "      <td>Paul Cezanne</td>\n",
       "      <td>Romanticism__paul-cezanne</td>\n",
       "    </tr>\n",
       "    <tr>\n",
       "      <th>3</th>\n",
       "      <td>Impressionism__federico-zandomeneghi_figure-of...</td>\n",
       "      <td>Impressionism</td>\n",
       "      <td>Federico Zandomeneghi</td>\n",
       "      <td>Impressionism__federico-zandomeneghi</td>\n",
       "    </tr>\n",
       "    <tr>\n",
       "      <th>4</th>\n",
       "      <td>Post_Impressionism__paul-gauguin_still-life-wi...</td>\n",
       "      <td>Post_Impressionism</td>\n",
       "      <td>Paul Gauguin</td>\n",
       "      <td>Post_Impressionism__paul-gauguin</td>\n",
       "    </tr>\n",
       "    <tr>\n",
       "      <th>...</th>\n",
       "      <td>...</td>\n",
       "      <td>...</td>\n",
       "      <td>...</td>\n",
       "      <td>...</td>\n",
       "    </tr>\n",
       "    <tr>\n",
       "      <th>9986</th>\n",
       "      <td>Baroque__alonzo-cano_noli-me-tangere</td>\n",
       "      <td>Baroque</td>\n",
       "      <td>Alonzo Cano</td>\n",
       "      <td>Baroque__alonzo-cano</td>\n",
       "    </tr>\n",
       "    <tr>\n",
       "      <th>9987</th>\n",
       "      <td>Color_Field_Painting__frank-stella_sinjerli-va...</td>\n",
       "      <td>Color_Field_Painting</td>\n",
       "      <td>Frank Stella</td>\n",
       "      <td>Color_Field_Painting__frank-stella</td>\n",
       "    </tr>\n",
       "    <tr>\n",
       "      <th>9988</th>\n",
       "      <td>Realism__camille-corot_the-bay-of-somme</td>\n",
       "      <td>Realism</td>\n",
       "      <td>Camille Corot</td>\n",
       "      <td>Realism__camille-corot</td>\n",
       "    </tr>\n",
       "    <tr>\n",
       "      <th>9989</th>\n",
       "      <td>Early_Renaissance__masaccio_portrait-of-a-youn...</td>\n",
       "      <td>Early_Renaissance</td>\n",
       "      <td>Masaccio</td>\n",
       "      <td>Early_Renaissance__masaccio</td>\n",
       "    </tr>\n",
       "    <tr>\n",
       "      <th>9990</th>\n",
       "      <td>Synthetic_Cubism__juan-gris_bottle-of-beaune-a...</td>\n",
       "      <td>Synthetic_Cubism</td>\n",
       "      <td>Juan Gris</td>\n",
       "      <td>Synthetic_Cubism__juan-gris</td>\n",
       "    </tr>\n",
       "  </tbody>\n",
       "</table>\n",
       "<p>9991 rows × 4 columns</p>\n",
       "</div>"
      ],
      "text/plain": [
       "                                                  imgId                 style  \\\n",
       "0      Expressionism__pablo-picasso_two-nude-women-1906         Expressionism   \n",
       "1     Realism__jean-francois-millet_the-man-with-the...               Realism   \n",
       "2      Romanticism__paul-cezanne_pastoral-or-idyll-1870           Romanticism   \n",
       "3     Impressionism__federico-zandomeneghi_figure-of...         Impressionism   \n",
       "4     Post_Impressionism__paul-gauguin_still-life-wi...    Post_Impressionism   \n",
       "...                                                 ...                   ...   \n",
       "9986               Baroque__alonzo-cano_noli-me-tangere               Baroque   \n",
       "9987  Color_Field_Painting__frank-stella_sinjerli-va...  Color_Field_Painting   \n",
       "9988            Realism__camille-corot_the-bay-of-somme               Realism   \n",
       "9989  Early_Renaissance__masaccio_portrait-of-a-youn...     Early_Renaissance   \n",
       "9990  Synthetic_Cubism__juan-gris_bottle-of-beaune-a...      Synthetic_Cubism   \n",
       "\n",
       "                     author                                 class  \n",
       "0             Pablo Picasso          Expressionism__pablo-picasso  \n",
       "1      Jean Francois Millet         Realism__jean-francois-millet  \n",
       "2              Paul Cezanne             Romanticism__paul-cezanne  \n",
       "3     Federico Zandomeneghi  Impressionism__federico-zandomeneghi  \n",
       "4              Paul Gauguin      Post_Impressionism__paul-gauguin  \n",
       "...                     ...                                   ...  \n",
       "9986            Alonzo Cano                  Baroque__alonzo-cano  \n",
       "9987           Frank Stella    Color_Field_Painting__frank-stella  \n",
       "9988          Camille Corot                Realism__camille-corot  \n",
       "9989               Masaccio           Early_Renaissance__masaccio  \n",
       "9990              Juan Gris           Synthetic_Cubism__juan-gris  \n",
       "\n",
       "[9991 rows x 4 columns]"
      ]
     },
     "execution_count": 48,
     "metadata": {},
     "output_type": "execute_result"
    }
   ],
   "source": [
    "df_valid"
   ]
  },
  {
   "cell_type": "code",
   "execution_count": 49,
   "metadata": {},
   "outputs": [],
   "source": [
    "df_all = pd.concat([df_train, df_valid])\n",
    "\n",
    "df_all.reset_index(inplace=True, drop=True)"
   ]
  },
  {
   "cell_type": "code",
   "execution_count": null,
   "metadata": {},
   "outputs": [],
   "source": []
  },
  {
   "cell_type": "code",
   "execution_count": 50,
   "metadata": {},
   "outputs": [
    {
     "data": {
      "text/plain": [
       "Impressionism                 8914\n",
       "Realism                       8670\n",
       "Expressionism                 6447\n",
       "Romanticism                   6042\n",
       "Post_Impressionism            5481\n",
       "Art_Nouveau_Modern            3768\n",
       "Baroque                       3585\n",
       "Symbolism                     3447\n",
       "Abstract_Expressionism        2754\n",
       "Cubism                        2214\n",
       "Rococo                        2089\n",
       "Naive_Art_Primitivism         1993\n",
       "Northern_Renaissance          1973\n",
       "Color_Field_Painting          1603\n",
       "Pop_Art                       1473\n",
       "Early_Renaissance             1390\n",
       "High_Renaissance              1343\n",
       "Minimalism                    1323\n",
       "Mannerism_Late_Renaissance    1279\n",
       "Ukiyo_e                       1083\n",
       "Fauvism                        917\n",
       "Pointillism                    508\n",
       "Contemporary_Realism           480\n",
       "New_Realism                    314\n",
       "Synthetic_Cubism               215\n",
       "Analytical_Cubism              110\n",
       "Action_painting                 96\n",
       "Name: style, dtype: int64"
      ]
     },
     "execution_count": 50,
     "metadata": {},
     "output_type": "execute_result"
    }
   ],
   "source": [
    "df_all['style'].value_counts()"
   ]
  },
  {
   "cell_type": "code",
   "execution_count": null,
   "metadata": {},
   "outputs": [],
   "source": []
  },
  {
   "cell_type": "code",
   "execution_count": 51,
   "metadata": {},
   "outputs": [],
   "source": [
    "df_test = df_all[~df_all['style'].isin(['Action_painting', 'Analytical_Cubism'])].groupby('style') \\\n",
    ".apply(lambda x: x.sample(7, random_state=42)).reset_index(drop=True)"
   ]
  },
  {
   "cell_type": "code",
   "execution_count": 52,
   "metadata": {},
   "outputs": [],
   "source": [
    "df_index = df_all[~df_all.imgId.isin(df_test.imgId)]"
   ]
  },
  {
   "cell_type": "code",
   "execution_count": null,
   "metadata": {},
   "outputs": [],
   "source": []
  },
  {
   "cell_type": "code",
   "execution_count": 53,
   "metadata": {},
   "outputs": [
    {
     "data": {
      "text/plain": [
       "69511"
      ]
     },
     "execution_count": 53,
     "metadata": {},
     "output_type": "execute_result"
    }
   ],
   "source": [
    "df_index.shape[0] + df_test.shape[0]"
   ]
  },
  {
   "cell_type": "code",
   "execution_count": null,
   "metadata": {},
   "outputs": [],
   "source": []
  },
  {
   "cell_type": "code",
   "execution_count": 54,
   "metadata": {},
   "outputs": [],
   "source": [
    "df_index[columns_list].to_csv(os.path.join(PATH_CSV_DIR, 'index.csv'),\n",
    "              sep=';', index=False)\n",
    "\n",
    "df_test[columns_list].to_csv(os.path.join(PATH_CSV_DIR, 'test.csv'),\n",
    "              sep=';', index=False)"
   ]
  },
  {
   "cell_type": "code",
   "execution_count": 1,
   "metadata": {
    "scrolled": true
   },
   "outputs": [
    {
     "ename": "NameError",
     "evalue": "name 'df_test' is not defined",
     "output_type": "error",
     "traceback": [
      "\u001b[0;31m---------------------------------------------------------------------------\u001b[0m",
      "\u001b[0;31mNameError\u001b[0m                                 Traceback (most recent call last)",
      "\u001b[0;32m<ipython-input-1-db8f4ef8f9ab>\u001b[0m in \u001b[0;36m<module>\u001b[0;34m\u001b[0m\n\u001b[0;32m----> 1\u001b[0;31m \u001b[0mdf_test\u001b[0m\u001b[0;34m.\u001b[0m\u001b[0mimgId\u001b[0m\u001b[0;34m.\u001b[0m\u001b[0mvalue_counts\u001b[0m\u001b[0;34m(\u001b[0m\u001b[0;34m)\u001b[0m\u001b[0;34m.\u001b[0m\u001b[0mhead\u001b[0m\u001b[0;34m(\u001b[0m\u001b[0;36m20\u001b[0m\u001b[0;34m)\u001b[0m\u001b[0;34m\u001b[0m\u001b[0;34m\u001b[0m\u001b[0m\n\u001b[0m",
      "\u001b[0;31mNameError\u001b[0m: name 'df_test' is not defined"
     ]
    }
   ],
   "source": [
    "df_test.imgId.value_counts()"
   ]
  },
  {
   "cell_type": "code",
   "execution_count": null,
   "metadata": {},
   "outputs": [],
   "source": []
  },
  {
   "cell_type": "markdown",
   "metadata": {},
   "source": [
    "## Check test"
   ]
  },
  {
   "cell_type": "code",
   "execution_count": 3,
   "metadata": {},
   "outputs": [],
   "source": [
    "df_test = pd.read_csv(os.path.join(PATH_CSV_DIR, 'test.csv'),\n",
    "                       sep=';')"
   ]
  },
  {
   "cell_type": "code",
   "execution_count": 5,
   "metadata": {},
   "outputs": [],
   "source": [
    "df_train = pd.read_csv(os.path.join(PATH_CSV_DIR, 'train.csv'),\n",
    "                       sep=';')"
   ]
  },
  {
   "cell_type": "code",
   "execution_count": 10,
   "metadata": {},
   "outputs": [
    {
     "data": {
      "text/html": [
       "<div>\n",
       "<style scoped>\n",
       "    .dataframe tbody tr th:only-of-type {\n",
       "        vertical-align: middle;\n",
       "    }\n",
       "\n",
       "    .dataframe tbody tr th {\n",
       "        vertical-align: top;\n",
       "    }\n",
       "\n",
       "    .dataframe thead th {\n",
       "        text-align: right;\n",
       "    }\n",
       "</style>\n",
       "<table border=\"1\" class=\"dataframe\">\n",
       "  <thead>\n",
       "    <tr style=\"text-align: right;\">\n",
       "      <th></th>\n",
       "      <th>imgId</th>\n",
       "      <th>style</th>\n",
       "      <th>author</th>\n",
       "      <th>class</th>\n",
       "    </tr>\n",
       "  </thead>\n",
       "  <tbody>\n",
       "    <tr>\n",
       "      <th>39</th>\n",
       "      <td>Baroque__pietro-da-cortona_romulus-and-remus-g...</td>\n",
       "      <td>Baroque</td>\n",
       "      <td>Pietro Da Cortona</td>\n",
       "      <td>Baroque__pietro-da-cortona</td>\n",
       "    </tr>\n",
       "  </tbody>\n",
       "</table>\n",
       "</div>"
      ],
      "text/plain": [
       "                                                imgId    style  \\\n",
       "39  Baroque__pietro-da-cortona_romulus-and-remus-g...  Baroque   \n",
       "\n",
       "               author                       class  \n",
       "39  Pietro Da Cortona  Baroque__pietro-da-cortona  "
      ]
     },
     "execution_count": 10,
     "metadata": {},
     "output_type": "execute_result"
    }
   ],
   "source": [
    "df_train[df_train.imgId == 'Baroque__pietro-da-cortona_romulus-and-remus-given-shelter-by-faustulus']"
   ]
  },
  {
   "cell_type": "code",
   "execution_count": 4,
   "metadata": {},
   "outputs": [
    {
     "data": {
      "text/plain": [
       "Realism__boris-kustodiev_interior-the-female-figure-at-the-window-in-studio-1920                         1\n",
       "Northern_Renaissance__hans-holbein-the-younger_portrait-of-a-young-man                                   1\n",
       "Contemporary_Realism__richard-whitney_robert-reich                                                       1\n",
       "Romanticism__ivan-aivazovsky_before-battle-ship-constantinople-1872                                      1\n",
       "Baroque__peter-paul-rubens_portrait-of-george-villiers-1st-duke-of-buckingham                            1\n",
       "Pop_Art__burhan-dogancay_the-circumciser-1990                                                            1\n",
       "Early_Renaissance__fra-angelico_sacred-conversation-1443                                                 1\n",
       "Minimalism__imi-knoebel_venera-1996                                                                      1\n",
       "Contemporary_Realism__neil-welliver_study-for-blue-ducktrap                                              1\n",
       "Abstract_Expressionism__sam-francis_untitled-sfe-071-1989                                                1\n",
       "Synthetic_Cubism__georges-braque_newspaper-bottle-packet-of-tobacco-1914                                 1\n",
       "Impressionism__stefan-luchian_the-laundress                                                              1\n",
       "Baroque__paul-bril_a-wooded-landscape-with-a-bridge-and-sportsmen-at-the-edge-of-the-river-1590          1\n",
       "Cubism__salvador-dali_head-of-a-woman                                                                    1\n",
       "Pointillism__georges-seurat_view-of-le-crotoy-from-upstream-1889                                         1\n",
       "Cubism__fernand-leger_the-hairy                                                                          1\n",
       "Post_Impressionism__pierre-bonnard_landscape-of-cote-d-azur-1943                                         1\n",
       "Northern_Renaissance__lucas-cranach-the-elder_the-three-graces-1535                                      1\n",
       "Pointillism__theo-van-rysselberghe_pines-and-eucalyptus-at-cavelieri-1905                                1\n",
       "New_Realism__edward-hopper_bistro                                                                        1\n",
       "Expressionism__vasile-kazar_unknown-title(95)                                                            1\n",
       "Ukiyo_e__katsushika-hokusai_drawing-of-man-resting-on-axe-and-carrying-part-of-tree-trunk-on-his-back    1\n",
       "High_Renaissance__cima-da-conegliano_madonna-and-child-with-saints                                       1\n",
       "Impressionism__john-singer-sargent_the-olive-grove                                                       1\n",
       "Early_Renaissance__leonardo-da-vinci_drawings-of-water-lifting-devices                                   1\n",
       "Expressionism__ernst-ludwig-kirchner_three-women-in-a-cafe                                               1\n",
       "Northern_Renaissance__lucas-cranach-the-elder_cranach-the-garden-of-gethsemane                           1\n",
       "Baroque__aleksey-antropov_portrait-of-catherine-ii                                                       1\n",
       "Art_Nouveau_Modern__aubrey-beardsley_the-toilet                                                          1\n",
       "Naive_Art_Primitivism__fernando-botero_self-portrait-as-spanish-conquistador                             1\n",
       "Name: imgId, dtype: int64"
      ]
     },
     "execution_count": 4,
     "metadata": {},
     "output_type": "execute_result"
    }
   ],
   "source": [
    "df_test.sample(30, random_state=1).imgId.value_counts()"
   ]
  },
  {
   "cell_type": "code",
   "execution_count": null,
   "metadata": {},
   "outputs": [],
   "source": []
  }
 ],
 "metadata": {
  "kernelspec": {
   "display_name": "Python 3",
   "language": "python",
   "name": "python3"
  },
  "language_info": {
   "codemirror_mode": {
    "name": "ipython",
    "version": 3
   },
   "file_extension": ".py",
   "mimetype": "text/x-python",
   "name": "python",
   "nbconvert_exporter": "python",
   "pygments_lexer": "ipython3",
   "version": "3.8.3"
  }
 },
 "nbformat": 4,
 "nbformat_minor": 4
}
